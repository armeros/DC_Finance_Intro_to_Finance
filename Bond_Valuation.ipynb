{
  "nbformat": 4,
  "nbformat_minor": 0,
  "metadata": {
    "colab": {
      "name": "Bond_Valuation",
      "provenance": [],
      "collapsed_sections": []
    },
    "kernelspec": {
      "name": "python3",
      "display_name": "Python 3"
    },
    "language_info": {
      "name": "python"
    }
  },
  "cells": [
    {
      "cell_type": "code",
      "execution_count": 2,
      "metadata": {
        "colab": {
          "base_uri": "https://localhost:8080/"
        },
        "id": "PcZXbaC_HH8T",
        "outputId": "462080ee-84ee-4755-b471-cf8642571f75"
      },
      "outputs": [
        {
          "output_type": "stream",
          "name": "stdout",
          "text": [
            "Collecting numpy-financial\n",
            "  Downloading numpy_financial-1.0.0-py3-none-any.whl (14 kB)\n",
            "Requirement already satisfied: numpy>=1.15 in /usr/local/lib/python3.7/dist-packages (from numpy-financial) (1.19.5)\n",
            "Installing collected packages: numpy-financial\n",
            "Successfully installed numpy-financial-1.0.0\n"
          ]
        }
      ],
      "source": [
        "!pip install numpy-financial"
      ]
    },
    {
      "cell_type": "markdown",
      "source": [
        "### **Calculating simple interest**\n",
        "\n",
        "Learning to calculate simple interest is an important first step in building up to calculating the price of a bond.\n",
        "\n",
        "Here you will apply what you have learned to calculate simple interest on a savings account.\n",
        "\n",
        "A savings account offers a `3%` interest rate (simple interest) per year paid yearly. You decide to invest USD `10,000` in this account for a period of `10` years.\n",
        "\n",
        "* Assign the present value, rate, and number of periods to `pv`, `r`, and `n`, respectively.\n",
        "* Using the formula for simple interest, calculate and print the total amount of simple interest earned after `10` years.\n",
        "* Calculate and print the value of the account after `10` years."
      ],
      "metadata": {
        "id": "PE5Kdgb1pe_G"
      }
    },
    {
      "cell_type": "code",
      "source": [
        "# Assign present value, rate and number of periods\n",
        "pv = 10000\n",
        "r = 0.03\n",
        "n = 10\n",
        "\n",
        "# Calculate total amount of simple interest earned\n",
        "simple_interest = pv * r * n\n",
        "print(f'simple_interest = {simple_interest:,.2f}')\n",
        "\n",
        "# Calculate value of the savings account\n",
        "fv = pv + simple_interest\n",
        "print(f'fv = {fv:,.2f}')"
      ],
      "metadata": {
        "colab": {
          "base_uri": "https://localhost:8080/"
        },
        "id": "PSSpOI2fou45",
        "outputId": "dd4196ab-81e5-419a-fde0-15bf6a6f12a6"
      },
      "execution_count": 6,
      "outputs": [
        {
          "output_type": "stream",
          "name": "stdout",
          "text": [
            "simple_interest = 3,000.00\n",
            "fv = 13,000.00\n"
          ]
        }
      ]
    },
    {
      "cell_type": "markdown",
      "source": [
        "### **Calculating compound interest**\n",
        "\n",
        "Compound interest is much more applicable in the real world and is an important feature in calculating the price of a bond, as you will see in the next chapter.\n",
        "\n",
        "Now imagine the same savings account pays `3%` per year as compound interest instead of simple interest. As before, you invest USD `10,000` for a period of ten years.\n",
        "\n",
        "* Assign the present value, rate, and number of periods to `pv`, `r`, and `n`, respectively.\n",
        "* Find how much money the savings account will have after ten years and print the result.\n",
        "* Calculate and print the amount of interest earned over the ten years."
      ],
      "metadata": {
        "id": "DCz1fdXLqHnN"
      }
    },
    {
      "cell_type": "code",
      "source": [
        "# Assign present value, rate and number of periods\n",
        "pv = 10000\n",
        "r = 0.03\n",
        "n = 10\n",
        "\n",
        "# Calculate the value of the savings account\n",
        "fv = pv * (1 + r)**n\n",
        "print(f'fv = {fv:,.2f}')\n",
        "\n",
        "# Calculate the total amount of compound interest earned\n",
        "compound_interest = fv - pv\n",
        "print(f'compound_interest = {compound_interest:,.2f}')"
      ],
      "metadata": {
        "colab": {
          "base_uri": "https://localhost:8080/"
        },
        "id": "iqQVXUYaoyrH",
        "outputId": "c2d31c75-b74c-4659-f554-fde660fc380f"
      },
      "execution_count": 7,
      "outputs": [
        {
          "output_type": "stream",
          "name": "stdout",
          "text": [
            "fv = 13,439.16\n",
            "compound_interest = 3,439.16\n"
          ]
        }
      ]
    },
    {
      "cell_type": "markdown",
      "source": [
        "# **Compound Interest with Multiple Cashflows**\n",
        "\n",
        "* 1,000 Deposit\n",
        "* 3% monthly interest rate\n",
        "* 100 extra deposit at the end of each month\n",
        "\n",
        "How much do we earn after 3 months\n",
        "\n",
        "$$1,000(1+0.03)^3 + 100(1+0.03)^2 + 100(1+0.03) + 100 = 1401.817$$\n",
        "\n",
        "The amount earned is $1401.817 - 1,300 = 101.817$\n"
      ],
      "metadata": {
        "id": "2bCjkiSYr67K"
      }
    },
    {
      "cell_type": "markdown",
      "source": [
        "# **The future value function**"
      ],
      "metadata": {
        "id": "HS5r2H2pujx1"
      }
    },
    {
      "cell_type": "code",
      "source": [
        "import numpy_financial as npf\n",
        "\n",
        "npf.fv(rate=0.03, nper=3, pmt=-100, pv=-1000) # ระวังเครื่องหมายลบ หมายถึงการออกเงินไป"
      ],
      "metadata": {
        "colab": {
          "base_uri": "https://localhost:8080/"
        },
        "id": "Kg6jbNZbqzSL",
        "outputId": "7c0693b8-b0e7-4566-ce95-1a1bcb991ea8"
      },
      "execution_count": 10,
      "outputs": [
        {
          "output_type": "execute_result",
          "data": {
            "text/plain": [
              "1401.817"
            ]
          },
          "metadata": {},
          "execution_count": 10
        }
      ]
    },
    {
      "cell_type": "markdown",
      "source": [
        "# **Compounding Frequencies**\n",
        "\n",
        "How much  do we have after 10 years for depositing one time 1,000\\$ at\n",
        "\n",
        "* 5% annual interest rate paid annually\n",
        "* 5% annual interest rate paid monthly\n",
        "* 5% annual interest rate paid daily\n",
        "\n",
        "# **THIS IS IN CONTRAST WITH THE COURSE INTRODUCTION TO FINANCIAL CONCEPTS, WHERE THE MONTHLY RATE AND DAILY RATE SHOULD BE**\n",
        "\n",
        "$$r_{month} = (1 + r_{year})^{\\frac{1}{12}}-1$$\n",
        "$$r_{day} = (1 + r_{year})^{\\frac{1}{365}}-1$$\n",
        "\n",
        "# **It was stated there explicitly that you cannot just use $r_{month} = \\dfrac{r_{year}}{12}$ or $r_{day} = \\dfrac{r_{year}}{365}$ directly.  <ins>It seems this is used when computing pmt for mortgage loans.</ins>**\n",
        "\n",
        "In this course, it says \"If the rate is monthly, we divide the rate by 12 and multiply the number of periods by twelve as there are twelve months in the year\". \n",
        "\n"
      ],
      "metadata": {
        "id": "gbl5ppX56XhX"
      }
    },
    {
      "cell_type": "code",
      "source": [
        "print(f'FV after a year compounded once at annual rate = {npf.fv(rate=0.05, nper=10, pmt=0, pv=-1000):,.2f}')\n",
        "print(f'FV after a year compounded 12 times at monthly rate = {npf.fv(rate=0.05/12, nper=10*12, pmt=0, pv=-1000):,.2f}')\n",
        "print(f'FV after a year compounded 365 times at daily rate = {npf.fv(rate=0.05/365, nper=10*365, pmt=0, pv=-1000):,.2f}')"
      ],
      "metadata": {
        "colab": {
          "base_uri": "https://localhost:8080/"
        },
        "id": "nXphwMcOtjk0",
        "outputId": "f7237716-cd26-41d7-d1bd-32995d9ecf1f"
      },
      "execution_count": 16,
      "outputs": [
        {
          "output_type": "stream",
          "name": "stdout",
          "text": [
            "FV after a year compounded once at annual rate = 1,628.89\n",
            "FV after a year compounded 12 times at monthly rate = 1,647.01\n",
            "FV after a year compounded 365 times at daily rate = 1,648.66\n"
          ]
        }
      ]
    },
    {
      "cell_type": "markdown",
      "source": [
        "The higher the compounding frequency, the more money we end up with. This is because the sooner we receive an interest payment, the sooner this interest can also start earning compound interest by being reinvested.\n",
        "\n",
        "## **If we convert the annual rate to be monthly rate as in the course \"Introduction to Financial Concepts\", we get the same amount of money as FV once a year**"
      ],
      "metadata": {
        "id": "sOK31g7pH3D_"
      }
    },
    {
      "cell_type": "code",
      "source": [
        "print(npf.fv(rate=(1 + 0.05)**(1/365)-1, nper=10*365, pmt=0, pv=-1000))\n",
        "print(npf.fv(rate=(1 + 0.05)**(1/12)-1, nper=10*12, pmt=0, pv=-1000))\n",
        "print(npf.fv(rate=0.05, nper=10, pmt=0, pv=-1000))"
      ],
      "metadata": {
        "colab": {
          "base_uri": "https://localhost:8080/"
        },
        "id": "AG47u1KKwoHp",
        "outputId": "2b46f202-89f1-41f9-87dd-7aeb1d25a6c1"
      },
      "execution_count": 17,
      "outputs": [
        {
          "output_type": "stream",
          "name": "stdout",
          "text": [
            "1628.8946267777742\n",
            "1628.8946267774515\n",
            "1628.894626777442\n"
          ]
        }
      ]
    },
    {
      "cell_type": "markdown",
      "source": [
        "### **Calculating future value**\n",
        "\n",
        "Calculating future value is an important step in building up to bond pricing as the process of pricing a bond is actually calculating future value in reverse. Here you will find the future value of an investment using the `npf.fv()` formula from earlier.\n",
        "\n",
        "* Import the `numpy_financial` package using the alias `npf`.\n",
        "* Calculate the future value of an investment of USD 10,000 with top-ups of USD 5,000 each year for 30 years earning 5% annual interest and assign the result to savings.\n"
      ],
      "metadata": {
        "id": "vbmRmlmHJItV"
      }
    },
    {
      "cell_type": "code",
      "source": [
        "# Import numpy_financial package using the alias npf\n",
        "import numpy_financial as npf\n",
        "\n",
        "# Calculate the future value of an investment\n",
        "savings = npf.fv(rate=0.05, nper=30, pmt=-5000, pv=-10000)\n",
        "\n",
        "# Print the result\n",
        "print(f'savings = {savings:,.2f}')"
      ],
      "metadata": {
        "colab": {
          "base_uri": "https://localhost:8080/"
        },
        "id": "UzwcpRfzw8R4",
        "outputId": "cb33f12e-4b32-43b9-ca7e-9bd847bfa1c9"
      },
      "execution_count": 18,
      "outputs": [
        {
          "output_type": "stream",
          "name": "stdout",
          "text": [
            "savings = 375,413.66\n"
          ]
        }
      ]
    },
    {
      "cell_type": "markdown",
      "source": [
        "### **Calculating compounding frequencies**\n",
        "\n",
        "Different compounding frequencies can greatly affect how much your money will grow. In this exercise, we are going to compare three different savings accounts, each offering a different annual rate at a different compounding frequency, to see which one will grow your money the most.\n",
        "\n",
        "In each example you will start with an initial investment of $10,000 that you invest for ten years. numpy_financial has already been imported for you as `npf`.\n",
        "\n",
        "* Calculate the future value of USD `10,000` invested in a savings account offering `5%` annual interest paid once per year for `10` years and assign to `account_1`.\n",
        "* Calculate the value of USD `10,000` invested in a savings account offering `4.5%` annual interest paid monthly (i.e., `12` times per year) for `10` years and assign to `account_2`.\n",
        "* Calculate the value of USD `10,000` invested in a savings account offering `4.9%` annual interest paid daily (i.e., `365` times per year) for `10` years and assign to `account_3`."
      ],
      "metadata": {
        "id": "lJ-h-iggM4CO"
      }
    },
    {
      "cell_type": "code",
      "source": [
        "# Calculate and print the growth of USD 10,000 invested in the first account\n",
        "account_1 = npf.fv(rate=0.05, nper=10, pmt=0, pv=-10000)\n",
        "\n",
        "# Calculate and print the growth of USD 10,000 invested in the second account\n",
        "account_2 = npf.fv(rate=0.045/12, nper=10*12, pmt=0, pv=-10000)\n",
        "\n",
        "# Calculate the growth of USD 10,000 invested in the third account\n",
        "account_3 = npf.fv(rate=0.049/365, nper=10*365, pmt=0, pv=-10000)\n",
        "\n",
        "# Print the value of the third savings account\n",
        "print(account_1, account_2, account_3)"
      ],
      "metadata": {
        "colab": {
          "base_uri": "https://localhost:8080/"
        },
        "id": "OLsAvuJfMzH1",
        "outputId": "77fc1f19-c20e-445b-b531-7ec025339b9f"
      },
      "execution_count": 19,
      "outputs": [
        {
          "output_type": "stream",
          "name": "stdout",
          "text": [
            "16288.94626777442 15669.927762817757 16322.625380911302\n"
          ]
        }
      ]
    },
    {
      "cell_type": "markdown",
      "source": [
        "# **nper() function**\n",
        "* number of periods required to grow PV to FV\n",
        "\n",
        "### **Calculating the number of periods**\n",
        "\n",
        "One real-life example that uses this function is calculating how long it will take you to reach a certain financial goal, be it growing your wealth, saving for something specific, or paying off debt.\n",
        "\n",
        "How long will it take you to save USD 30,000 if you save USD 1,250 per quarter invested in a fund that offers 4.5% annual returns compounded quarterly?\n",
        "\n",
        "* Use the `npf.nper()` function to calculate how long it will take you to reach your savings goal based on the information above"
      ],
      "metadata": {
        "id": "mg0YUUl_PhSQ"
      }
    },
    {
      "cell_type": "code",
      "source": [
        "# Import numpy_financial package using alias npf\n",
        "import numpy_financial as npf\n",
        "\n",
        "# Calculate how long it will take to reach the savings goal\n",
        "number_periods = npf.nper(rate=0.045/4, pmt=-1250, pv=0, fv=30000)\n",
        "\n",
        "# Print the result\n",
        "print(number_periods)"
      ],
      "metadata": {
        "colab": {
          "base_uri": "https://localhost:8080/"
        },
        "id": "AiCbnW3aOs01",
        "outputId": "55886c6d-2c30-42e7-8da5-043d233014df"
      },
      "execution_count": 20,
      "outputs": [
        {
          "output_type": "stream",
          "name": "stdout",
          "text": [
            "21.365232331911212\n"
          ]
        }
      ]
    },
    {
      "cell_type": "markdown",
      "source": [
        "It took you 21 quarters, or just over 5 years to reach your goal.\n",
        "\n",
        "# **pmt() function**\n",
        "# **THIS IS IN DEFINITE CONTRAST WITH INTRO TO FINANCIAL CONCEPTS.  THERE, THE ANNUAL RATE MUST BE CONVERTED DIFFERENTLY THAN JUST DIVIDING BY THE NUMBER OF PERIODS**\n",
        "\n",
        "* Tells you the payment amount required to grow PV to FV\n",
        "\n",
        "### **Calculating the payment amount**\n",
        "\n",
        "Another real-life problem you might encounter is how much money you need to save each month to hit a financial target within a set time.\n",
        "\n",
        "You saw earlier that to pay off a mortgage of USD 275,000 in ten years with an annual interest rate of 3.5% compounded monthly, you needed to pay USD 2,719 per month.\n",
        "\n",
        "If, instead, you wanted to take twenty years to pay off the mortgage, calculate how much you would need to pay per month now.\n",
        "\n",
        "* Use the `npf.pmt()` function to calculate the required monthly payment\n",
        "\n",
        "\n",
        "\n"
      ],
      "metadata": {
        "id": "F5Vsn3P2QaW2"
      }
    },
    {
      "cell_type": "code",
      "source": [
        "# Import the numpy_financial package using the alias npf\n",
        "import numpy_financial as npf\n",
        "\n",
        "# Calculate monthly payment required\n",
        "required_payment = npf.pmt(rate=0.035/12, nper=20*12, pv=275000, fv=0)\n",
        "\n",
        "# Print the result\n",
        "print(required_payment)"
      ],
      "metadata": {
        "colab": {
          "base_uri": "https://localhost:8080/"
        },
        "id": "x0r30X61RYED",
        "outputId": "873b26b7-9ff5-4561-9bb3-b1f04899f23f"
      },
      "execution_count": 21,
      "outputs": [
        {
          "output_type": "stream",
          "name": "stdout",
          "text": [
            "-1594.8892244535023\n"
          ]
        }
      ]
    },
    {
      "cell_type": "markdown",
      "source": [
        "Notice that although we doubled the time to pay off the mortgage, the monthly payments dropped only by around 40% instead of by half, this is because the relationship isn't linear.\n",
        "\n",
        "# **rate() function**\n",
        "* Tells you interest rate required to grow PV to FV\n",
        "\n",
        "### **Calculating the required interest rate**\n",
        "\n",
        "If you have a certain financial goal in mind, such as saving a set amount of money by a set time, you can calculate what return will achieve this goal.\n",
        "\n",
        "This is useful if, for example, you wanted to check if the goal you have set is realistic given current levels of interest rates.\n",
        "\n",
        "Earlier, you saw that to retire in 30 years with USD 1,000,000 in the bank by investing USD 1,500 per month, you needed to earn an annual return of 3.77%. Calculate how much higher this return would need to be if you wanted to retire with USD 2,000,000 instead, again using monthly compounding.\n",
        "\n",
        "* Use the `npf.rate()` function to calculate the required return"
      ],
      "metadata": {
        "id": "Yaf18IQMS2Zi"
      }
    },
    {
      "cell_type": "code",
      "source": [
        "# Import the numpy_financial package using the alias npf\n",
        "import numpy_financial as npf\n",
        "\n",
        "# Calculate return on investments required: required_return\n",
        "required_return = 12*npf.rate(nper=30*12, pmt=-1500, pv=0, fv=2000000)\n",
        "\n",
        "# Print the result\n",
        "print(required_return)"
      ],
      "metadata": {
        "colab": {
          "base_uri": "https://localhost:8080/"
        },
        "id": "M2FeWPj0SuTz",
        "outputId": "b1d02088-de8e-4e8a-d488-d494338489be"
      },
      "execution_count": 22,
      "outputs": [
        {
          "output_type": "stream",
          "name": "stdout",
          "text": [
            "0.07447372232991042\n"
          ]
        }
      ]
    },
    {
      "cell_type": "markdown",
      "source": [
        "Notice that although the amount we wanted to retire with doubled, the required annual return of 7.45% was slightly less than double; this is because the relationship isn't linear.\n",
        "\n",
        "### **Solving real-world problems**\n",
        "\n",
        "Now you are going to use the functions you have learned to solve some real-life problems:\n",
        "\n",
        "You want to start investing and find a bond paying a 3% annual rate compounded monthly. If you invest USD 100 per month, how much will you have after five years?\n",
        "\n",
        "1. Find how much a USD 100 per month investment at a 3% annual rate compounded monthly grows to after 5 years.\n",
        "\n",
        "You are saving for a deposit on a house. You need to save up USD 15,000 and have saved USD 5,000 so far. If you save USD 250 per month, how many months until you reach your goal?\n",
        "\n",
        "2. Find the time to save USD 15,000 starting with USD 5,000 and adding USD 250 per month at 5% interest compounded monthly.\n",
        "\n",
        "You are 22 years old and want to retire at 65 with USD 1 million in the bank. If you can grow your money at 5% per year, how much should you invest per month?\n",
        "\n",
        "3. Find the monthly savings to retire with USD 1,000,000 starting with USD 0, earning 5% interest compounded monthly.\n",
        "\n",
        "\n",
        "\n"
      ],
      "metadata": {
        "id": "oq5G9ItjUdCn"
      }
    },
    {
      "cell_type": "code",
      "source": [
        "import numpy_financial as npf\n",
        "\n",
        "# Calculate how much USD 100 per month compounding at 3% grows to after 5 years\n",
        "total_savings = npf.fv(rate=0.03/12, nper=5*12, pmt=-100, pv=0)\n",
        "print(total_savings)\n",
        "\n",
        "# Calculate the time to reach a USD 15,000 deposit on a house\n",
        "time_to_goal = npf.nper(rate=0.05/12, pmt=-250, pv=-5000, fv=15000)\n",
        "print(time_to_goal)\n",
        "\n",
        "# Calculate the monthly contributions needed to retire with USD 1,000,000\n",
        "monthly_contributions = npf.pmt(rate=0.05/12, nper=(65-22)*12, pv=0, fv=1000000)\n",
        "print(monthly_contributions)"
      ],
      "metadata": {
        "colab": {
          "base_uri": "https://localhost:8080/"
        },
        "id": "Ci-QNJHBUXuK",
        "outputId": "07824fc2-334f-43c0-cd04-ecc1bb449b7c"
      },
      "execution_count": 23,
      "outputs": [
        {
          "output_type": "stream",
          "name": "stdout",
          "text": [
            "6464.67126221082\n",
            "34.41570331103298\n",
            "-552.1252103174048\n"
          ]
        }
      ]
    },
    {
      "cell_type": "markdown",
      "source": [
        "# **Present Value**\n",
        "\n",
        "$$FV = PV \\times (1 + r)^n \\ \\ \\ \\ \\text{Compounding}$$\n",
        "\n",
        "\n",
        "$$PV = \\frac{FV}{(1+r)^n} \\ \\ \\ \\ \\ \\ \\ \\ \\ \\ \\ \\text{Discounting}$$\n",
        "\n",
        "\n",
        "$$PV ⟺ FV$$\n",
        "\n",
        "* A higher interest rate or longer time period increases the FV, so ...\n",
        "* A higher interest rate or longer time period must decrease the PV.\n",
        "\n",
        "How much is 10,000\\$ worth in the next 10 years at 5% annual interest rate?  Or\n",
        "\n",
        "How much should we invest now at 5% annually to have 10,000\\$ in the next 10 years?\n",
        "\n",
        "$$PV = \\frac{10,000}{(1 + 0.05)^{10}} = 6,139.13$$\n",
        "\n",
        "# **pv() function**"
      ],
      "metadata": {
        "id": "2LfosVlJB0iA"
      }
    },
    {
      "cell_type": "code",
      "source": [
        "import numpy_financial as npf\n",
        "\n",
        "print('{:,.2f}'.format(-npf.pv(rate=0.05, nper=10, pmt=0, fv=10000)))"
      ],
      "metadata": {
        "colab": {
          "base_uri": "https://localhost:8080/"
        },
        "id": "Xun7oruiWIJa",
        "outputId": "b2a8a8e8-8260-4de4-971b-c530f2b987c2"
      },
      "execution_count": 7,
      "outputs": [
        {
          "output_type": "stream",
          "name": "stdout",
          "text": [
            "6,139.13\n"
          ]
        }
      ]
    },
    {
      "cell_type": "markdown",
      "source": [
        "### **Calculating present value**\n",
        "\n",
        "Compound interest can have a very powerful effect over time. In this exercise, you will examine how much you need to invest upfront at different interest rates to achieve a financial target. `numpy_financial` has already been imported for you as `npf`.\n",
        "\n",
        "Imagine you want to have saved USD 11,000 after `7` years and consider three different investments, each paying `3`%, `4`%, and `5`% annual interest compounded monthly. If you contribute USD `100` per month, what initial lump sum should you also invest to achieve this goal?\n",
        "\n",
        "\n",
        "* Calculate the upfront **PV** you need to invest at `3`% annual interest compounded monthly, with monthly top-ups of USD `100` to reach USD `11,000` in `7` years, and print the result.\n",
        "* Calculate the upfront **PV** you need to invest at `4`% annual interest compounded monthly, with monthly top-ups of USD `100` to reach USD `11,000` in `7` years, and print the result.\n",
        "* Calculate the upfront **PV** you need to invest at `5`% annual interest compounded monthly, with monthly top-ups of USD `100` to reach USD `11,000` in `7` years, and print the result."
      ],
      "metadata": {
        "id": "2w1Vgeq9LPAm"
      }
    },
    {
      "cell_type": "code",
      "source": [
        "import numpy_financial as npf\n",
        "\n",
        "# Calculate the upfront investment at 3% interest\n",
        "pv_three_percent = -npf.pv(rate=0.03/12, nper=7*12, pmt=-100, fv=11000)\n",
        "\n",
        "# Print the result\n",
        "print(f\"3% Annual Interest Upfront Investment: {pv_three_percent:,.2f}\")\n",
        "\n",
        "# Calculate the upfront investment at 4% interest\n",
        "pv_four_percent = -npf.pv(rate=0.04/12, nper=7*12, pmt=-100, fv=11000)\n",
        "\n",
        "# Print the result\n",
        "print(f\"4% Annual Interest Upfront Investment: {pv_four_percent:,.2f}\")\n",
        "\n",
        "# Calculate the upfront investment at 5% interest\n",
        "pv_five_percent = -npf.pv(rate=0.05/12, nper=7*12, pmt=-100, fv=11000)\n",
        "\n",
        "# Print the result\n",
        "print(f\"5% Annual Interest Upfront Investment: {pv_five_percent:,.2f}\")"
      ],
      "metadata": {
        "colab": {
          "base_uri": "https://localhost:8080/"
        },
        "id": "bcy2B9p-MDat",
        "outputId": "ae0c0692-439e-44bb-cb89-6793aa208dc9"
      },
      "execution_count": 13,
      "outputs": [
        {
          "output_type": "stream",
          "name": "stdout",
          "text": [
            "3% Annual Interest Upfront Investment: 1,350.63\n",
            "4% Annual Interest Upfront Investment: 1,001.57\n",
            "5% Annual Interest Upfront Investment: 682.02\n"
          ]
        }
      ]
    },
    {
      "cell_type": "markdown",
      "source": [
        "# **zero coupon bonds**\n",
        "\n",
        "* Pays a single cash-flow called the **face value**\n",
        "* Paid at a single point in time called the **maturity**\n",
        "* No intermediate cash-flows (called **coupons**) paid until **maturity**, hence the name\n",
        "* The price is the ***PV*** of the single cash-flow, but actually sold at a discount to their face value.\n",
        "\n",
        "* <ins>Example</ins>:\n",
        "  * 3 year maturity\n",
        "  * A face value of 100\n",
        "  * A yield of 3.5%\n",
        "\n",
        "The price of this bond equals $$\\dfrac{100}{(1 + 0.035)^3} = 90.19$$\n",
        "\n",
        "### **Pricing zero coupon bonds**\n",
        "\n",
        "You have seen that the price of a zero coupon bond is simply the **PV** of a single cash-flow in the future. How much that single cash-flow is worth today will depend on how far it is into the future and what interest rate (yield) you discount it at. We will investigate this now.\n",
        "\n",
        "To do this, you are going to price a zero coupon bond with a three year maturity and yield of 5% per year. Then you will change the maturity and yield and see how these factors affect the price.\n",
        "\n",
        "In this exercise, you are going to work directly with the compound interest formula instead of using the `npf.pv()` function.\n",
        "\n",
        "Recall that our PV formula is \n",
        " \n",
        "$$PV \\ \\ = \\ \\ \\frac{FV}{(1 + r)^n}$$\n",
        "\n",
        "* Find the price of a zero coupon bond with a three year maturity, 5% yield, and USD 100 face value and print the result.\n",
        "\n",
        "* Find the price of a zero coupon bond with a ten year maturity, 5% yield, and USD 100 face value and print the result.\n",
        "\n",
        "\n",
        "* Find the price of a zero coupon bond with a three year maturity, 7% yield, and USD 100 face value and print the result."
      ],
      "metadata": {
        "id": "K1Jd0VHRJbz6"
      }
    },
    {
      "cell_type": "code",
      "source": [
        "price_1 = 100/(1 + 0.05)**3\n",
        "price_2 = 100/(1 + 0.05)**10\n",
        "price_3 = 100/(1 + 0.07)**3\n",
        "\n",
        "# Print the result\n",
        "print(\"3 year 5% yield ZCB: {:,.2f}\".format(price_1))\n",
        "print(\"10 year 5% yield ZCB:{:,.2f} \".format(price_2))\n",
        "print(\"3 year 7% yield ZCB: {:,.2f}\".format(price_3))\n"
      ],
      "metadata": {
        "colab": {
          "base_uri": "https://localhost:8080/"
        },
        "id": "kqiKybStHveC",
        "outputId": "317fc02b-7576-41fa-a19a-53fd2202f753"
      },
      "execution_count": 14,
      "outputs": [
        {
          "output_type": "stream",
          "name": "stdout",
          "text": [
            "3 year 5% yield ZCB: 86.38\n",
            "10 year 5% yield ZCB:61.39 \n",
            "3 year 7% yield ZCB: 81.63\n"
          ]
        }
      ]
    },
    {
      "cell_type": "markdown",
      "source": [
        " Increasing either the time to maturity or yield means we are applying more discounting to the single cash-flow (face value), giving it a lower PV and hence a lower price for the zero coupon bond.\n",
        "\n",
        " # **Coupon paying bonds**\n",
        "\n",
        "* 3 year bond\n",
        "* 3% annual coupon\n",
        "* face value of USD 100 \n",
        "* yield of 4%:\n",
        "\n",
        "![image.png](data:image/png;base64,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)\n",
        "\n",
        "We break the bond up into a collection of ***zero coupon bonds***, then price these:\n",
        "\n",
        "* A 1 year zero coupon bond with a face value of USD 3: $\\dfrac{3}{1+0.04} = 2.88$\n",
        "* A 2 year zero coupon bond with a face value of USD 3: $\\dfrac{3}{(1+0.04)^2} = 2.77$\n",
        "* A 3 year zero coupon bond with a face value of USD 103: $\\dfrac{103}{(1+0.04)^3} = 91.57$\n",
        "\n",
        "Coupon Bond Price : $2.88 + 2.77 + 91.57 = 97.22$\n",
        "\n",
        "## **Coupon Bond Price Formula**\n",
        "\n",
        "$$Price = PV = \\frac{C}{1+r} + \\frac{C}{(1+r)^2} + \\cdots + \\frac{C+P}{(1+r)^n}$$\n",
        "\n",
        "* $C$ is the ***coupon*** paid in each time period\n",
        "* $r$ is the ***yield*** to maturity of the bond\n",
        "* $P$ is the ***face value*** (or principal) paid at maturity\n",
        "* $n$ is the number of time ***periods*** (typically years)"
      ],
      "metadata": {
        "id": "qXt1gPeaP1A2"
      }
    },
    {
      "cell_type": "code",
      "source": [
        "import numpy_financial as npf\n",
        "\n",
        "print(\"{:,.2f}\".format(-npf.pv(rate=0.04, nper=3, pmt=3, fv=100)))\n",
        "print(\"{:,.2f}\".format(3/1.04 + 3/1.04**2 + 103/1.04**3))"
      ],
      "metadata": {
        "colab": {
          "base_uri": "https://localhost:8080/"
        },
        "id": "BZF43rsVIuX1",
        "outputId": "bb440e3f-7d19-40e1-b3a7-7a75a3bb4cfb"
      },
      "execution_count": 18,
      "outputs": [
        {
          "output_type": "stream",
          "name": "stdout",
          "text": [
            "97.22\n",
            "97.22\n"
          ]
        }
      ]
    },
    {
      "cell_type": "markdown",
      "source": [
        "### **Impact of bond yields on price**\n",
        "\n",
        "In the financial markets, <ins>interest rates are ***constantly changing***</ins>, and these changes will influence bond prices as the interest rate you use to discount the cash-flows of the bond (a.k.a. the yield) changes.\n",
        "\n",
        "To get a better feel for how the prices of bonds behave with respect to yields, you will price a bond using a set yield to maturity, then price the same bond using both a higher and lower yield to maturity and see how this affects the bond price.\n",
        "\n",
        "`numpy_financial` has already been imported for you as `npf`.\n",
        "\n",
        "\n",
        "1. Find the price of a `10` year bond with a face value of USD `100`, annual coupon of `3`%, yield of `4`%, and print the result.\n",
        "\n",
        "2. Find the price of a `10` year bond with a face value of USD `100`, annual coupon of `3`%, yield of `3`%, and print the result.\n",
        "\n",
        "3. Find the price of a `10` year bond with a face value of USD `100`, annual coupon of `3`%, yield of `5`%, and print the result."
      ],
      "metadata": {
        "id": "6uXa1tZNoyYp"
      }
    },
    {
      "cell_type": "code",
      "source": [
        "import numpy_financial as npf\n",
        "\n",
        "bond_yield_3 = -npf.pv(rate=0.03, nper=10, pmt=3, fv=100)\n",
        "bond_yield_4 = -npf.pv(rate=0.04, nper=10, pmt=3, fv=100)\n",
        "bond_yield_5 = -npf.pv(rate=0.05, nper=10, pmt=3, fv=100)\n",
        "\n",
        "print(\"3% Yield Price: {:,.2f}\".format(bond_yield_3))\n",
        "print(\"4% Yield Price: {:,.2f}\".format(bond_yield_4))\n",
        "print(\"5% Yield Price: {:,.2f}\".format(bond_yield_5))\n",
        "\n"
      ],
      "metadata": {
        "colab": {
          "base_uri": "https://localhost:8080/"
        },
        "id": "E8JF2JkOdGzT",
        "outputId": "5a9bcb8c-a4c4-4c1b-89c6-c0d0a715a1df"
      },
      "execution_count": 20,
      "outputs": [
        {
          "output_type": "stream",
          "name": "stdout",
          "text": [
            "3% Yield Price: 100.00\n",
            "4% Yield Price: 91.89\n",
            "5% Yield Price: 84.56\n"
          ]
        }
      ]
    },
    {
      "cell_type": "markdown",
      "source": [
        "When interest rates are higher, we discount the cash-flows of a bond at a higher rate, meaning their PV will be lower. As a bond is just the sum of the PV of each cash-flow, this means the bond price will be lower when interest rates are higher, and vice versa.\n",
        "\n",
        "### **Impact of coupons on price**\n",
        "\n",
        "You have looked at how changing the yield to maturity of a bond has a big impact on its price. Changing the coupon, i.e., the amount of money the bond pays in each period, can also have an impact on the bond's price. This is what you are going to investigate now by comparing bonds with high and low coupons.\n",
        "\n",
        "1. Find the price of a `10` year bond with a face value of USD `100`, annual coupon of `2`%, yield of `4`%, and print the result.\n",
        "\n",
        "2. Find the price of a `10` year bond with a face value of USD `100`, annual coupon of `5`%, yield of `4`%, and print the result.\n",
        "\n",
        "3. Find the price of a `10` year bond with a face value of USD `100`, annual coupon of `10`%, yield of `4`%, and print the result."
      ],
      "metadata": {
        "id": "BkZpng2qrDAt"
      }
    },
    {
      "cell_type": "code",
      "source": [
        "import numpy_financial as npf\n",
        "\n",
        "bond_coupon_2 = -npf.pv(rate=0.04, nper=10, pmt=2, fv=100)\n",
        "bond_coupon_5 = -npf.pv(rate=0.04, nper=10, pmt=5, fv=100)\n",
        "bond_coupon_10 = -npf.pv(rate=0.04, nper=10, pmt=10, fv=100)\n",
        "\n",
        "print(\"2% Coupon Price: {:,.2f}\".format(bond_coupon_2))\n",
        "print(\"5% Coupon Price: {:,.2f}\".format(bond_coupon_5))\n",
        "print(\"10% Coupon Price: {:,.2f}\".format(bond_coupon_10))"
      ],
      "metadata": {
        "colab": {
          "base_uri": "https://localhost:8080/"
        },
        "id": "JFdgkYz1q0O-",
        "outputId": "262f3057-c505-4d27-8ae5-018d1b1e3c18"
      },
      "execution_count": 22,
      "outputs": [
        {
          "output_type": "stream",
          "name": "stdout",
          "text": [
            "2% Coupon Price: 83.78\n",
            "5% Coupon Price: 108.11\n",
            "10% Coupon Price: 148.67\n"
          ]
        }
      ]
    },
    {
      "cell_type": "markdown",
      "source": [
        "A higher coupon makes the bond more valuable makes sense; if the bond pays you more money, it must be worth more!\n",
        "\n",
        "# **The relationship between price and yield**\n",
        "\n",
        "**Prices move <ins>inversely</ins> to yields**"
      ],
      "metadata": {
        "id": "CWwQ1yYntP45"
      }
    },
    {
      "cell_type": "code",
      "source": [
        "import numpy as np\n",
        "import numpy_financial as npf\n",
        "import pandas as pd\n",
        "import matplotlib.pyplot as plt\n",
        "\n",
        "bond_yields = np.arange(0.001, 20, 0.1)\n",
        "bond = pd.DataFrame(bond_yields, columns=['bond_yield'])\n",
        "bond['bond_price'] = -npf.pv(rate=bond['bond_yield'] / 100, nper=10, pmt=5, fv=100)\n",
        "plt.figure(figsize=(12,7))\n",
        "plt.plot(bond['bond_yield'], bond['bond_price'], label='bond_price')\n",
        "plt.xlabel('Yield (%)')\n",
        "plt.ylabel('Bond Price (USD)')\n",
        "plt.title(\"10 Year Bond 5% Annual Coupon\")\n",
        "plt.legend()\n",
        "plt.show()"
      ],
      "metadata": {
        "colab": {
          "base_uri": "https://localhost:8080/",
          "height": 458
        },
        "id": "X8i79fawsZMH",
        "outputId": "0c493211-a28f-4042-dce2-8c6d861748b4"
      },
      "execution_count": 28,
      "outputs": [
        {
          "output_type": "display_data",
          "data": {
            "image/png": "[encoded data removed]",
            "text/plain": [
              "<Figure size 864x504 with 1 Axes>"
            ]
          },
          "metadata": {
            "needs_background": "light"
          }
        }
      ]
    },
    {
      "cell_type": "markdown",
      "source": [
        "## **Bond premium vs. bond discount**\n",
        "\n",
        "* **Premium**: Price > 100, or Yield < Coupon\n",
        "* **Discount**: Price < 100, or Yield > Coupon\n",
        "* **Par**: Price = 100, or Yield = Coupon\n",
        "\n",
        "### **Plotting bond prices against yields**\n",
        "\n",
        "Being able to plot a graph of bond prices against yields can help to investigate what will happen to a bond or portfolio of bonds for different levels of interest rates in the market.\n",
        "\n",
        "Now you are going to create a graph of bond prices against yields, but this time for two bonds of different maturities. You will do this by giving your pandas DataFrame extra columns for each additional bond. The bonds you will consider will both pay a `5`% coupon, but now you will plot a `5` year and a `10` year bond.\n",
        "\n",
        "numpy, numpy_financial, pandas, and matplotlib have already been imported for you as `np`, `npf`, `pd`, and `plt`, respectively.\n",
        "\n",
        "* Create an array of bond yields from `0` to `20` (not inclusive) in increments of `0.1`.\n",
        "* Convert this array into a pandas DataFrame and name the column `bond_yield`.\n",
        "* Add two more columns, one for each bond (5-year and 10-year), and find the price for a given level of yield.\n",
        "* Plot a graph of these bonds, setting the x-axis label to `Yield (%)` and y-axis label to `Bond Price (USD)`."
      ],
      "metadata": {
        "id": "LpmsfROKwOBL"
      }
    },
    {
      "cell_type": "code",
      "source": [
        "import numpy as np\n",
        "import numpy_financial as npf\n",
        "import pandas as pd\n",
        "import matplotlib.pyplot as plt\n",
        "\n",
        "# Create an array of bond yields and convert to DataFrame\n",
        "bond_yields = np.arange(0.0000001, 20, 0.1)\n",
        "bond = pd.DataFrame(bond_yields, columns=['bond_yield'])\n",
        "\n",
        "# Add columns for different bonds\n",
        "bond['bond_price_5Y'] = -npf.pv(rate=bond['bond_yield'] / 100, nper=5, pmt=5, fv=100)\n",
        "bond['bond_price_10Y']= -npf.pv(rate=bond['bond_yield'] / 100, nper=10, pmt=5, fv=100)\n",
        "\n",
        "# Plot graph of bonds\n",
        "plt.figure(figsize=(12,7))\n",
        "plt.plot(bond['bond_yield'], bond['bond_price_5Y'], label='5 Year Bond')\n",
        "plt.plot(bond['bond_yield'], bond['bond_price_10Y'], label='10 Year Bond')\n",
        "plt.xlabel('Yield (%)')\n",
        "plt.ylabel('Bond Price (USD)')\n",
        "plt.legend()\n",
        "plt.show()"
      ],
      "metadata": {
        "colab": {
          "base_uri": "https://localhost:8080/",
          "height": 442
        },
        "id": "uL0dPaUQuwp4",
        "outputId": "42a00708-5b8b-424a-eb49-850222908ee5"
      },
      "execution_count": 35,
      "outputs": [
        {
          "output_type": "display_data",
          "data": {
            "image/png": "[encoded data removed]",
            "text/plain": [
              "<Figure size 864x504 with 1 Axes>"
            ]
          },
          "metadata": {
            "needs_background": "light"
          }
        }
      ]
    },
    {
      "cell_type": "markdown",
      "source": [
        "The bond with longer maturity is much more sensitive to changes in yield.\n",
        "\n",
        "# **Zero coupon bond yield formula**\n",
        "\n",
        "\\begin{align*}\n",
        "PV & = \\frac{FV}{(1+r)^n}\\\\\n",
        "FV & = PV\\times(1+r)^n\\\\\n",
        "(1+r)^n & = \\frac{FV}{PV}\\\\\n",
        "1+r & = \\left( \\frac{FV}{PV} \\right)^{\\frac{1}{n}}\\\\\n",
        "r & = \\left( \\frac{FV}{PV} \\right)^{\\frac{1}{n}} - 1\n",
        "\\end{align*}\n",
        "\n",
        "# **Coupon bond yield formula?**\n",
        "\n",
        "$$PV = \\frac{C}{1+r} + \\frac{C}{(1+r)^2} + \\cdots + \\frac{C+P}{(1+r)^n}$$\n",
        "\n",
        "* Cannot be solved analytically in terms of $r$\n",
        "\n",
        "### **Comparing zero coupon bond yields**\n",
        "\n",
        "Since changing the price of a bond affects the yield and the yield represents the return on investment, comparing different prices allows you to calculate the return you can make from different bonds of different prices.\n",
        "\n",
        "In this exercise, you will compare the same zero coupon bond at different prices to see how it affects its yield. You will work directly with the formula calculated earlier.\n",
        "\n",
        "Take a `5` year zero coupon bond with a face value of `100`, and compare its yield when it has a price of USD `84.67` and USD `98.33`.\n",
        "\n",
        "Recall the formula for zero coupon bond yield is \n",
        "\n",
        "$$PV = \\frac{FV}{(1+r)^n}$$\n",
        " \n",
        "1. Find the yield of a `5` year zero coupon bond with a face value of USD `100` and price of USD `84.67`.\n",
        "\n",
        "2. Find the yield of a `5` year zero coupon bond with a face value of USD `100` and price of USD `78.22`."
      ],
      "metadata": {
        "id": "KSrbybOG0_gD"
      }
    },
    {
      "cell_type": "code",
      "source": [
        "import numpy_financial as npf\n",
        "\n",
        "# Find the first zero coupon bond yield\n",
        "bond_1 = (100/84.67)**(1/5)-1\n",
        "bond_2 = (100/78.22)**(1/5)-1\n",
        "\n",
        "# Print the result\n",
        "print(\"ZCB Price USD 84.67: {:,.2f}\".format(bond_1))\n",
        "print(\"ZCB Price USD 78.22: {:,.2f}\".format(bond_2))"
      ],
      "metadata": {
        "colab": {
          "base_uri": "https://localhost:8080/"
        },
        "id": "mvR4xz0vxbmY",
        "outputId": "989bb710-44c6-4bb0-c707-164fabc5d832"
      },
      "execution_count": 39,
      "outputs": [
        {
          "output_type": "stream",
          "name": "stdout",
          "text": [
            "ZCB Price USD 84.67: 0.03\n",
            "ZCB Price USD 78.22: 0.05\n"
          ]
        }
      ]
    },
    {
      "cell_type": "markdown",
      "source": [
        "### **Comparing coupon bond yields**\n",
        "\n",
        "Often you will be presented with several bonds with different characteristics, and it isn't clear which one has the highest yield.\n",
        "\n",
        "In these cases, it can be helpful to find their yields in order to compare them properly, since the yield tells you which bond will give you the greatest return on your investment.\n",
        "\n",
        "In this exercise, you will use the `npf.rate()` to compare three different bonds.\n",
        "\n",
        "`numpy_financial` has already been imported for you as `npf`.\n",
        "\n",
        "1. Find the yield of a three-year bond paying a `3`% annual coupon with a price of USD `92`.\n",
        "2. Find the yield of a five-year bond paying a `6`% annual coupon with a price of USD `102`.\n",
        "3. Find the yield of a five-year bond paying a `3`% annual coupon with a price of USD `95`.\n"
      ],
      "metadata": {
        "id": "kGyL1sYr-sPY"
      }
    },
    {
      "cell_type": "code",
      "source": [
        "import numpy_financial as npf \n",
        "\n",
        "# Bond with price of USD 92 paying 3% coupon for 3 years\n",
        "bond_a = npf.rate(nper=3, pmt=3, pv=-92, fv=100)\n",
        "print(\"Bond A: {:,.3f}\".format(bond_a))\n",
        "\n",
        "# Bond with price of USD 102 paying 6% coupon for 5 years\n",
        "bond_b = npf.rate(nper=5, pmt=6, pv=-102, fv=100)\n",
        "print(\"Bond B: {:,.3f}\".format(bond_b))\n",
        "\n",
        "# Bond with price of USD 95 paying 3% coupon for 5 years\n",
        "bond_c = npf.rate(nper=5, pmt=3, pv=-95, fv=100)\n",
        "print(\"Bond C: {:,.3f}\".format(bond_c))"
      ],
      "metadata": {
        "colab": {
          "base_uri": "https://localhost:8080/"
        },
        "id": "_pa9y8aj-QzG",
        "outputId": "ec51835f-6988-43b1-e8e2-0f70b32beb6c"
      },
      "execution_count": 41,
      "outputs": [
        {
          "output_type": "stream",
          "name": "stdout",
          "text": [
            "Bond A: 0.060\n",
            "Bond B: 0.055\n",
            "Bond C: 0.041\n"
          ]
        }
      ]
    },
    {
      "cell_type": "markdown",
      "source": [
        "# **Duration**\n",
        "\n",
        "**Example:** \n",
        "\n",
        "  * Take a `5` year & `10` year bond, both with a `5`% coupon\n",
        "  * At a `5`% yield they both have a price of USD `100`:"
      ],
      "metadata": {
        "id": "SsCxZvYpox8C"
      }
    },
    {
      "cell_type": "code",
      "source": [
        "import numpy_financial as npf\n",
        "\n",
        "print(-npf.pv(rate=0.05, nper= 5, pmt=5, fv=100))\n",
        "print(-npf.pv(rate=0.05, nper=10, pmt=5, fv=100))"
      ],
      "metadata": {
        "colab": {
          "base_uri": "https://localhost:8080/"
        },
        "id": "4F9HCoeIABhi",
        "outputId": "25674185-401f-40cc-ffb7-9a2fd2313896"
      },
      "execution_count": 2,
      "outputs": [
        {
          "output_type": "stream",
          "name": "stdout",
          "text": [
            "100.0\n",
            "100.0\n"
          ]
        }
      ]
    },
    {
      "cell_type": "markdown",
      "source": [
        "If interest rates move up to `6`%:"
      ],
      "metadata": {
        "id": "wz65nGIxpuPp"
      }
    },
    {
      "cell_type": "code",
      "source": [
        "print(-npf.pv(rate=0.06, nper=5, pmt=5, fv=100))\n",
        "print(-npf.pv(rate=0.06, nper=10, pmt=5, fv=100))"
      ],
      "metadata": {
        "colab": {
          "base_uri": "https://localhost:8080/"
        },
        "id": "gFN9xcsfpbIt",
        "outputId": "35087327-2cb1-4936-f500-0454be11bf91"
      },
      "execution_count": 3,
      "outputs": [
        {
          "output_type": "stream",
          "name": "stdout",
          "text": [
            "95.78763621443429\n",
            "92.63991294858529\n"
          ]
        }
      ]
    },
    {
      "cell_type": "markdown",
      "source": [
        "The 10 year bond was more sensitive to interest rate changes.\n",
        "\n",
        "# **What is duration?**\n",
        "\n",
        "* Duration is the ***% price change*** for a ***1% change in yields*** (interest rates).\n",
        "* Higher duration = higher interest rate risk\n",
        "* Typically used to:\n",
        "  * Measure interest rate risk\n",
        "  * Hedge interest rate risk\n",
        "  * Predict profit & loss as interest rates change\n",
        "\n",
        "# **Simplified formula for Duration**\n",
        "\n",
        "$$Duration = \\frac{P_{down}-P_{up}}{2P\\Delta Y}$$\n",
        "\n",
        "* $P_{down}$ = Bond price at 1% lower yield\n",
        "* $P_{up}$ = Bond price at 1% higher yield\n",
        "* $P$ = Bond price at current yield\n",
        "* $\\Delta Y$ = Change in yield (we will use 1%)\n",
        "\n",
        "`10` year bond, `5`% annual coupon, `4`% yield to maturity, what is its duration?"
      ],
      "metadata": {
        "id": "5cznW54rp5r4"
      }
    },
    {
      "cell_type": "code",
      "source": [
        "import numpy_financial as npf\n",
        "\n",
        "price = -npf.pv(rate=0.05, nper=10, pmt=5, fv=100)\n",
        "price_up = -npf.pv(rate=0.06, nper=10, pmt=5, fv=100)\n",
        "price_down = -npf.pv(rate=0.04, nper=10, pmt=5, fv=100)\n",
        "duration = (price_down - price_up) / (2 * price * 0.01)\n",
        "print(duration)"
      ],
      "metadata": {
        "colab": {
          "base_uri": "https://localhost:8080/"
        },
        "id": "lTeNmWiUp0uV",
        "outputId": "7b878609-771f-4263-a075-dbd5b0b7a869"
      },
      "execution_count": 11,
      "outputs": [
        {
          "output_type": "stream",
          "name": "stdout",
          "text": [
            "7.735491415384871\n"
          ]
        }
      ]
    },
    {
      "cell_type": "markdown",
      "source": [
        "### **Interest rate sensitivity of two bonds**\n",
        "\n",
        "Knowing the interest rate sensitivity of a bond or portfolio of bonds is important for investors. It allows them to gauge how exposed they are to changes in interest rates and make sure this exposure is within their risk tolerance.\n",
        "\n",
        "In this exercise, you will compare the price impact on two bonds from a change in interest rates to establish which bond has a higher level of interest rate sensitivity.\n",
        "\n",
        "You will consider two bonds; \n",
        "\n",
        "* a ten year and a twenty year bond, \n",
        "* both paying an annual coupon of `3`%, with a face value of USD `100`. `numpy_financial` has been imported for you as `npf`.\n",
        "\n",
        "1. Find the price of a `10` year bond with a `3`% coupon and `3`% yield and print the result.\n",
        "2. Find the price of the same `10` year bond but with a `4`% \n",
        "yield instead and print the result.\n",
        "3. Find the price of a `20` year bond with a `3`% coupon and `3`% yield and print the result.\n",
        "4. Find the price of the same `20` year bond but with a yield of `4`% instead and print the result."
      ],
      "metadata": {
        "id": "ulJfN3jkw90U"
      }
    },
    {
      "cell_type": "code",
      "source": [
        "import numpy_financial as npf \n",
        "\n",
        "# Price a 10 year bond with 3% annual coupon at 3% yield and print\n",
        "bond_1 = -npf.pv(rate=0.03, nper=10, pmt=3, fv=100)\n",
        "print(\"10 Year Bond 3% Yield: \", bond_1)\n",
        "\n",
        "# Price a 10 year bond with 3% annual coupon at 4% yield and print\n",
        "bond_2 = -npf.pv(rate=0.04, nper=10, pmt=3, fv=100)\n",
        "print(\"10 Year Bond 4% Yield: \", bond_2)\n",
        "\n",
        "# Price a 20 year bond with 3% annual coupon at 3% yield and print\n",
        "bond_3 = -npf.pv(rate=0.03, nper=20, pmt=3, fv=100)\n",
        "print(\"20 Year Bond 3% Yield: \", bond_3)\n",
        "\n",
        "# Price a 20 year bond with 3% annual coupon at 4% yield and print\n",
        "bond_4 = -npf.pv(rate=0.04, nper=20, pmt=3, fv=100)\n",
        "print(\"20 Year Bond 4% Yield: \", bond_4)"
      ],
      "metadata": {
        "colab": {
          "base_uri": "https://localhost:8080/"
        },
        "id": "-kRkJDGBsIlN",
        "outputId": "b6d11931-b4b6-4792-dfb3-fd4836326a2b"
      },
      "execution_count": 9,
      "outputs": [
        {
          "output_type": "stream",
          "name": "stdout",
          "text": [
            "10 Year Bond 3% Yield:  100.0\n",
            "10 Year Bond 4% Yield:  91.88910422064497\n",
            "20 Year Bond 3% Yield:  100.0\n",
            "20 Year Bond 4% Yield:  86.4096736550323\n"
          ]
        }
      ]
    },
    {
      "cell_type": "markdown",
      "source": [
        "The bond with the higher maturity was more sensitive to interest rate changes.\n",
        "\n",
        "### **Zero coupon and coupon bond duration**\n",
        "\n",
        "***Duration*** is a measure of interest rate risk that can be applied to any bond, regardless of whether it pays a coupon or not.\n",
        "\n",
        "In this exercise, you are going to calculate the duration of a zero coupon bond with a `10` year maturity, face value of USD `100`, and a yield to maturity of `3`%, and compare its duration to the same bond paying a `3`% annual coupon. \n",
        "\n",
        "Recall that the formula for duration is given by:\n",
        "\n",
        "$$Duration = \\frac{P_{down}-P_{up}}{2P\\Delta Y}$$\n",
        " \n",
        "1. Find the duration of a `10` year zero coupon bond with a `3`% yield, then print the result.\n",
        "\n",
        "2. Find the duration of a `10` year bond with a `3`% coupon and `3`% yield, then print the result."
      ],
      "metadata": {
        "id": "yrizpncrzFBn"
      }
    },
    {
      "cell_type": "code",
      "source": [
        "# Find the price of the zero coupon bond at current yield levels\n",
        "price = -npf.pv(rate=0.03, nper=10, pmt=0, fv=100)\n",
        "\n",
        "# Find the price of the zero coupon bond at 1% higher yield levels\n",
        "price_up = -npf.pv(rate=0.04, nper=10, pmt=0, fv=100)\n",
        "\n",
        "# Find the price of the zero coupon bond at 1% lower yield levels\n",
        "price_down = -npf.pv(rate=0.02, nper=10, pmt=0, fv=100)\n",
        "\n",
        "# Calculate duration using the formula and print result\n",
        "duration = (price_down - price_up) / (2 * price * 0.01)\n",
        "print(\"Zero Coupon Bond Duration: \", duration)\n",
        "\n",
        "# Find the price of the coupon bond at current yield levels\n",
        "price = -npf.pv(rate=0.03, nper=10, pmt=3, fv=100)\n",
        "\n",
        "# Find the price of the coupon bond at 1% higher yield levels\n",
        "price_up = -npf.pv(rate=0.04, nper=10, pmt=3, fv=100)\n",
        "\n",
        "# Find the price of the coupon bond at 1% lower yield levels\n",
        "price_down = -npf.pv(rate=0.02, nper=10, pmt=3, fv=100)\n",
        "\n",
        "# Calculate duration using the formula\n",
        "duration = (price_down-price_up)/(2*0.01*price)\n",
        "\n",
        "# Print the result\n",
        "print(\"Coupon Paying Bond Duration: \", duration)"
      ],
      "metadata": {
        "colab": {
          "base_uri": "https://localhost:8080/"
        },
        "id": "TAhVbrcRtUN6",
        "outputId": "72b23f98-fdf3-4465-e3c8-4c49adb4cd24"
      },
      "execution_count": 12,
      "outputs": [
        {
          "output_type": "stream",
          "name": "stdout",
          "text": [
            "Zero Coupon Bond Duration:  9.728888259316797\n",
            "Coupon Paying Bond Duration:  8.54674039279864\n"
          ]
        }
      ]
    },
    {
      "cell_type": "markdown",
      "source": [
        "Coupon bonds are less sensitive to interest rates than their zero coupon equivalents. \n",
        "\n",
        "# **Plotting bond maturity against duration**\n"
      ],
      "metadata": {
        "id": "ZmLfjo5k7Sgi"
      }
    },
    {
      "cell_type": "code",
      "source": [
        "import numpy as np\n",
        "import numpy_financial as npf\n",
        "import pandas as pd\n",
        "import matplotlib.pyplot as plt\n",
        "\n",
        "bond_maturity = np.arange(0.00000000001, 30, 0.1)\n",
        "bond = pd.DataFrame(bond_maturity, columns=['bond_maturity'])\n",
        "bond['price'] = -npf.pv(rate=0.05, nper=bond['bond_maturity'], pmt=5, fv=100)\n",
        "bond['price_up'] = -npf.pv(rate=0.05 + 0.01, nper=bond['bond_maturity'], pmt=5, fv=100)\n",
        "bond['price_down'] = -npf.pv(rate=0.05 - 0.01, nper=bond['bond_maturity'], pmt=5, fv=100)\n",
        "bond['duration'] = (bond['price_down'] - bond['price_up']) / (2 * bond['price'] * 0.01)\n",
        "\n",
        "plt.figure(figsize=(12,7))\n",
        "plt.plot(bond['bond_maturity'], bond['duration'])\n",
        "plt.xlabel('Maturity (Years)')\n",
        "plt.ylabel('Duration (%)')\n",
        "plt.title(\"Effect of Varying Maturity On Bond Duration\")\n",
        "plt.show()"
      ],
      "metadata": {
        "colab": {
          "base_uri": "https://localhost:8080/",
          "height": 458
        },
        "id": "hfAsAaYB7VD4",
        "outputId": "0e78d2f0-730b-4f24-fc6c-2814224c9994"
      },
      "execution_count": 14,
      "outputs": [
        {
          "output_type": "display_data",
          "data": {
            "image/png": "[encoded data removed]",
            "text/plain": [
              "<Figure size 864x504 with 1 Axes>"
            ]
          },
          "metadata": {
            "needs_background": "light"
          }
        }
      ]
    },
    {
      "cell_type": "markdown",
      "source": [
        "### **Comparing the duration of two bonds directly**\n",
        "\n",
        "A quick way to check the impact of a factor on duration is to find the duration of two different bonds where you increase this factor and see what effect it has on the bond's duration.\n",
        "\n",
        "In this exercise, you will calculate the duration of a `10` year and a `20` year bond, both paying an annual coupon of `3`%, with a face value of USD `100`, and yield to maturity of `5`%.\n",
        "\n",
        "1. Find the duration of the `10` year bond and print the result.\n",
        "\n",
        "2. Find the duration of the `20` year bond and print the result."
      ],
      "metadata": {
        "id": "VDy4tO-N-VT8"
      }
    },
    {
      "cell_type": "code",
      "source": [
        "import numpy_financial as npf \n",
        "\n",
        "# Find & print duration of 10 year bond with 3% coupon & 5% yield\n",
        "price_10y = -npf.pv(rate=0.05, nper=10, pmt=3, fv=100)\n",
        "price_up_10y = -npf.pv(rate=0.06, nper=10, pmt=3, fv=100)\n",
        "price_down_10y = -npf.pv(rate=0.04, nper=10, pmt=3, fv=100)\n",
        "duration_10y = (price_down_10y - price_up_10y) / (2 * price_10y * 0.01)\n",
        "print(\"10 Year Bond: \", duration_10y)\n",
        "\n",
        "# Find & print duration of 20 year bond with 3% coupon & 5% yield\n",
        "price_20y = -npf.pv(rate=0.05, nper=20, pmt=3, fv=100)\n",
        "price_up_20y = -npf.pv(rate=0.06, nper=20, pmt=3, fv=100)\n",
        "price_down_20y = -npf.pv(rate=0.04, nper=20, pmt=3, fv=100)\n",
        "duration_20y = (price_down_20y - price_up_20y) / (2 * price_20y * 0.01)\n",
        "print(\"20 Year Bond: \", duration_20y)\n",
        "\n"
      ],
      "metadata": {
        "colab": {
          "base_uri": "https://localhost:8080/"
        },
        "id": "3HSWbHAf9YZh",
        "outputId": "dcb0b539-a8bc-46cd-f3f0-6ef3d90d9666"
      },
      "execution_count": 15,
      "outputs": [
        {
          "output_type": "stream",
          "name": "stdout",
          "text": [
            "10 Year Bond:  8.260370518687731\n",
            "20 Year Bond:  13.865652120642753\n"
          ]
        }
      ]
    },
    {
      "cell_type": "markdown",
      "source": [
        "ou can see that the 20 year bond has a higher duration than the 10 year bond, as expected.\n",
        "\n",
        "### **Using the steepness of the price/yield line**\n",
        "\n",
        "In the previous video, you saw that you can plot a graph of bond prices against yields and check its steepness visually to determine where it has the highest duration.\n",
        "\n",
        "In this exercise, you are going to replicate this plot yourself to see how bond yields affect bond duration. You will consider a `20` year bond with a `5`% coupon and face value of USD `100`.\n",
        "\n",
        "* Create an array of `bond yields` from `0` to `20` in increment sizes of `0.1`.\n",
        "* Convert this array into a pandas DataFrame called `bond` and name the column `bond_yield`.\n",
        "* Add the column `bond_price` to the DataFrame and assign it a `20` year bond with a `5`% coupon and face value of USD `100`, whose yield depends on the value of `bond_yield`.\n",
        "* Plot a graph of the `bond_yield` column on the x-axis against the `bond_price` column on the y-axis.\n",
        "* Give the x-axis the label `'Yield (%)'`.\n",
        "* Give the y-axis the label `'Bond Price (USD)'`."
      ],
      "metadata": {
        "id": "L3AfOT9u_g-B"
      }
    },
    {
      "cell_type": "code",
      "source": [
        "import numpy as np\n",
        "import numpy_financial as npf\n",
        "import pandas as pd\n",
        "import matplotlib.pyplot as plt\n",
        "\n",
        "# Create an array of bond yields\n",
        "bond_yields = np.arange(0.000001, 20, 0.1)\n",
        "\n",
        "# Convert this array into a pandas DataFrame and add column title\n",
        "bond = pd.DataFrame(bond_yields, columns=['bond_yield'])\n",
        "\n",
        "# Add bond price column with price varying according to the yield\n",
        "bond['bond_price'] = -npf.pv(rate=bond['bond_yield'] / 100, nper=20, pmt=5, fv=100)\n",
        "\n",
        "# Plot graph of bond yields against prices, add x-axis and y-axis labels, show plot\n",
        "plt.figure(figsize=(11,7))\n",
        "plt.plot(bond['bond_yield'], bond['bond_price'])\n",
        "plt.xlabel('Yield (%)')\n",
        "plt.ylabel('Bond Price (USD)')\n",
        "plt.show()"
      ],
      "metadata": {
        "colab": {
          "base_uri": "https://localhost:8080/",
          "height": 442
        },
        "id": "QKQoz_w-_dAB",
        "outputId": "ccbd691f-0692-468e-d6ea-32b139f71da3"
      },
      "execution_count": 18,
      "outputs": [
        {
          "output_type": "display_data",
          "data": {
            "image/png": "[encoded data removed]",
            "text/plain": [
              "<Figure size 792x504 with 1 Axes>"
            ]
          },
          "metadata": {
            "needs_background": "light"
          }
        }
      ]
    },
    {
      "cell_type": "markdown",
      "source": [
        "By using the slope of the price/yield graph, we can see that low yielding bonds are more sensitive to changes in interest rates than the same bond with a higher yield.\n",
        "\n",
        "### **Plotting duration vs. the factor**\n",
        "\n",
        "Plotting a graph of duration against a factor such as maturity, coupons, or yields is a great way to see how the factor affects the ***duration*** of a bond.\n",
        "\n",
        "In the video, we plotted a graph of duration against maturity. In this exercise, you are going to do the same thing for the ***coupon rate***. You will use a `10` year bond with a yield of `5`% and face value of USD `100`.\n",
        "\n",
        "* Create an array of coupons from `0` to `10` in increment sizes of `0.1`, and convert to a pandas DataFrame.\n",
        "* Add four additional columns to the DataFrame; `price`, `price_up`, `price_down`, and `duration` for the bond.\n",
        "* Plot a graph with `bond_coupon` on the x-axis and `duration` on the y-axis."
      ],
      "metadata": {
        "id": "OiP4oAE-Cqn7"
      }
    },
    {
      "cell_type": "code",
      "source": [
        "import numpy as np\n",
        "import numpy_financial as npf\n",
        "import pandas as pd\n",
        "import matplotlib.pyplot as plt\n",
        "\n",
        "# Create array of coupon rates and assign to pandas DataFrame\n",
        "bond_coupon = np.arange(0.001, 10, 0.1)\n",
        "bond = pd.DataFrame(bond_coupon, columns=['bond_coupon'])\n",
        "\n",
        "# Calculate bond price, price_up, price_down, and duration\n",
        "bond['price'] = -npf.pv(rate=0.05, nper=10, pmt=bond['bond_coupon'], fv=100)\n",
        "bond['price_up'] = -npf.pv(rate=0.06, nper=10, pmt=bond['bond_coupon'], fv=100)\n",
        "bond['price_down'] = -npf.pv(rate=0.04, nper=10, pmt=bond['bond_coupon'], fv=100)\n",
        "bond['duration'] = (bond['price_down'] - bond['price_up']) / (2 * bond['price'] * 0.01)\n",
        "\n",
        "# Plot coupon vs. duration, add labels & title, show plot\n",
        "plt.figure(figsize=(11, 8))\n",
        "plt.plot(bond['bond_coupon'], bond['duration'])\n",
        "plt.xlabel('Coupon (%)')\n",
        "plt.ylabel('Duration (%)')\n",
        "plt.show()"
      ],
      "metadata": {
        "colab": {
          "base_uri": "https://localhost:8080/",
          "height": 497
        },
        "id": "JIfyN3zyEa0z",
        "outputId": "2e9ec75a-c4d2-4a9c-a783-0efc1e3442c8"
      },
      "execution_count": 21,
      "outputs": [
        {
          "output_type": "display_data",
          "data": {
            "image/png": "[encoded data removed]",
            "text/plain": [
              "<Figure size 792x576 with 1 Axes>"
            ]
          },
          "metadata": {
            "needs_background": "light"
          }
        }
      ]
    },
    {
      "cell_type": "markdown",
      "source": [
        "When you increased the maturity of a bond, it increased the duration, whereas here, you can see that increasing the coupon rate decreases the duration of a bond.\n",
        "\n",
        "# **Dollar duration**\n",
        "\n",
        "* ***Duration*** = % change in bond price for 1% change in yields\n",
        "* ***Dollar duration*** = \\$ change in bond price for 1% change in yields:\n",
        "* Tells us how much money we make or lose for a change in interest rates\n",
        "\n",
        "$$\\text{Dollar Duration} = \\text{Duration} \\times \\text{Bond Price} × 0.01$$\n",
        "\n",
        "# **DV01**\n",
        "\n",
        "* ***DV01*** = \\$ change in bond price for 0.01% change in yields.\n",
        "\n",
        "$$\\text{DV01} = \\text{Duration} \\times \\text{Bond Price} × 0.0001$$\n",
        "\n",
        "# **Duration neutral portfolio**\n",
        "\n",
        "* Hedge against change in interest rate\n",
        "\n",
        "## **Hedging DV01 example**\n",
        "\n",
        "Say your portfolio has a DV01 of 10,000 USD. You can hedge this interest rate exposure by selling 10,000 USD worth of DV01 of a bond. \n",
        "\n",
        "* Suppose bond has a price of USD 92.28 and duration of 7.98%\n",
        "\n"
      ],
      "metadata": {
        "id": "5RUcwLEsFfmF"
      }
    },
    {
      "cell_type": "code",
      "source": [
        "DV01 = 92.28 * 7.98 * 0.0001\n",
        "print(\"DV01: \", DV01)"
      ],
      "metadata": {
        "colab": {
          "base_uri": "https://localhost:8080/"
        },
        "id": "txd7rq7dFJ1b",
        "outputId": "f4dfe560-a96b-4b87-88d0-f928f71c269d"
      },
      "execution_count": 22,
      "outputs": [
        {
          "output_type": "stream",
          "name": "stdout",
          "text": [
            "DV01:  0.07363944\n"
          ]
        }
      ]
    },
    {
      "cell_type": "markdown",
      "source": [
        "With DV01 of USD `0.0736`,  by dividing the DV01 of our portfolio by the DV01 of the bond, "
      ],
      "metadata": {
        "id": "5jo6F6ZyQuiB"
      }
    },
    {
      "cell_type": "code",
      "source": [
        "portfolio_dv01 = 10000\n",
        "bond_dv01 = 0.0736\n",
        "hedge_quantity = portfolio_dv01 / bond_dv01\n",
        "print(\"Number of bonds to sell: {:,.0f}\".format(hedge_quantity))"
      ],
      "metadata": {
        "colab": {
          "base_uri": "https://localhost:8080/"
        },
        "id": "CODSNpp4Q-na",
        "outputId": "b8e2e3ed-8fc2-4d38-dc7e-28ac95452995"
      },
      "execution_count": 24,
      "outputs": [
        {
          "output_type": "stream",
          "name": "stdout",
          "text": [
            "Number of bonds to sell: 135,870\n"
          ]
        }
      ]
    },
    {
      "cell_type": "markdown",
      "source": [
        "we see that we need 135,870 units of the bond to hedge our portfolio.\n",
        "\n",
        "Multiplying the quantity of bonds by their price,"
      ],
      "metadata": {
        "id": "aw8ttPEBQ5Mx"
      }
    },
    {
      "cell_type": "code",
      "source": [
        "bond_price = 92.28\n",
        "hedge_amount = hedge_quantity * bond_price\n",
        "print(\"Dollar amount to sell: USD {:,.0f}\".format(hedge_amount))"
      ],
      "metadata": {
        "colab": {
          "base_uri": "https://localhost:8080/"
        },
        "id": "KVnG3T34QpV9",
        "outputId": "3f487b7f-b033-4005-a8b9-55a998d6fadf"
      },
      "execution_count": 25,
      "outputs": [
        {
          "output_type": "stream",
          "name": "stdout",
          "text": [
            "Dollar amount to sell: USD 12,538,043\n"
          ]
        }
      ]
    },
    {
      "cell_type": "markdown",
      "source": [
        "This costs around twelve and a half million dollars.\n",
        "\n",
        "# **Bond price prediction using Duration**\n",
        "\n",
        "$$Price\\  Change = −100 × Dollar Duration × ΔY$$\n",
        "\n",
        "## **Price prediction example**\n",
        "\n",
        "* 10 year bond with 4% coupon and 5% yield"
      ],
      "metadata": {
        "id": "Fi6Mz7vVRuwf"
      }
    },
    {
      "cell_type": "code",
      "source": [
        "import numpy_financial as npf\n",
        "\n",
        "print(\"Price = {:,.2f}\".format(-npf.pv(rate=0.05, nper=10, pmt=4, fv=100)))\n",
        "\n",
        "price = -npf.pv(rate=0.05, nper=10, pmt=4, fv=100)\n",
        "price_up = -npf.pv(rate=0.06, nper=10, pmt=4, fv=100)\n",
        "price_down = -npf.pv(rate=0.04, nper=10, pmt=4, fv=100)\n",
        "duration = (price_down - price_up) / (2 * price * 0.01)\n",
        "dollar_duration = price * duration * 0.01\n",
        "print(f\"Duration = {duration:,.2f}\")\n",
        "print(f\"Dollar Duration = {price * duration * 0.01:,.2f}\")"
      ],
      "metadata": {
        "colab": {
          "base_uri": "https://localhost:8080/"
        },
        "id": "lbxiskv6RoDa",
        "outputId": "ee7ed3d4-42c7-4f86-a6a4-be778f191f8a"
      },
      "execution_count": 30,
      "outputs": [
        {
          "output_type": "stream",
          "name": "stdout",
          "text": [
            "Price = 92.28\n",
            "Duration = 7.98\n",
            "Dollar Duration = 7.36\n"
          ]
        }
      ]
    },
    {
      "cell_type": "markdown",
      "source": [
        "\"***Estimated***\" bond price change if interest rates drop 3%:"
      ],
      "metadata": {
        "id": "IKlrrMV0Tuqb"
      }
    },
    {
      "cell_type": "code",
      "source": [
        "print(f\"Estimated price change = ${-100 * dollar_duration * -0.03:,.2f}\")"
      ],
      "metadata": {
        "colab": {
          "base_uri": "https://localhost:8080/"
        },
        "id": "HdxOb4K9SoHa",
        "outputId": "b19f5d1a-487a-4f8c-a561-b97167d09faa"
      },
      "execution_count": 34,
      "outputs": [
        {
          "output_type": "stream",
          "name": "stdout",
          "text": [
            "Estimated price change = $22.08\n"
          ]
        }
      ]
    },
    {
      "cell_type": "markdown",
      "source": [
        "\"***Actual***\" change from repricing the bond:\n",
        "* Yield drops from 5% by 3% so `rate=0.02`"
      ],
      "metadata": {
        "id": "NiAmZoP_UTST"
      }
    },
    {
      "cell_type": "code",
      "source": [
        "print(f\"Actual price change  = ${-npf.pv(rate=0.02, nper=10, pmt=4, fv=100) - price:,.2f}\")"
      ],
      "metadata": {
        "colab": {
          "base_uri": "https://localhost:8080/"
        },
        "id": "JeGGGIzlUCHu",
        "outputId": "93cff7a9-7aea-47e2-c696-95c076b66f5b"
      },
      "execution_count": 36,
      "outputs": [
        {
          "output_type": "stream",
          "name": "stdout",
          "text": [
            "Actual price change  = $25.69\n"
          ]
        }
      ]
    },
    {
      "cell_type": "markdown",
      "source": [
        "### **Percent duration and dollar duration**\n",
        "\n",
        "***Dollar duration*** and ***DV01*** are more commonly used in the real world to quickly measure the interest rate risk of a bond or portfolio. They can also be used for other financial instruments that contain some interest rate risk.\n",
        "\n",
        "In this exercise, you are going to find the dollar duration and DV01 of a bond. The bond has a `30` year maturity, coupon rate of `3.5`%, yield to maturity of `5`%, and face value of USD `100`.\n",
        "\n",
        "* Find the duration of a `30` year bond with a coupon rate of `3.5`% and yield of `5`% in the usual way.\n",
        "* Find the ***dollar duration*** of the bond.\n",
        "* Find the ***DV01*** of the bond."
      ],
      "metadata": {
        "id": "ML-mCBAds9-a"
      }
    },
    {
      "cell_type": "code",
      "source": [
        "import numpy_financial as npf \n",
        "\n",
        "# Find the duration of the bond\n",
        "price = -npf.pv(rate=0.05, nper=30, pmt=3.5, fv=100)\n",
        "price_up = -npf.pv(rate=0.06, nper=30, pmt=3.5, fv=100)\n",
        "price_down = -npf.pv(rate=0.04, nper=30, pmt=3.5, fv=100)\n",
        "duration = (price_down - price_up)/(2 * 0.01 * price)\n",
        "\n",
        "print(f\"Price: {price:,.2f}\")\n",
        "\n",
        "# Find the dollar duration of the bond\n",
        "dollar_duration = duration * price * 0.01\n",
        "print(\"Dollar Duration: {:,.2f}\".format(dollar_duration))\n",
        "\n",
        "# Find the DV01 of the bond\n",
        "dv01 = duration * price * 0.0001\n",
        "print(\"DV01: {:,.4f}\".format(dv01))"
      ],
      "metadata": {
        "colab": {
          "base_uri": "https://localhost:8080/"
        },
        "id": "K6i-a_tBU6an",
        "outputId": "55fd1b20-83b2-4c53-da87-71c216ae03fb"
      },
      "execution_count": 5,
      "outputs": [
        {
          "output_type": "stream",
          "name": "stdout",
          "text": [
            "Price: 76.94\n",
            "Dollar Duration: 12.88\n",
            "DV01: 0.1288\n"
          ]
        }
      ]
    },
    {
      "cell_type": "markdown",
      "source": [
        "### **Creating a duration neutral portfolio**\n",
        "\n",
        "Hedging is a very important part of working with bonds and bond portfolios. In this exercise, you are going to find the quantity of a bond needed to hedge a portfolio, as well as the dollar amount of this quantity.\n",
        "\n",
        "Say you own a portfolio of bonds whose combined ***DV01*** is USD `5000`. You decide to hedge this portfolio by selling a fixed amount of the `30` year bond from the previous exercise, which has a price of USD `76.94` and a `DV01` of `12.88` cents.\n",
        "\n",
        "* Assign the ***DV01*** of the portfolio and the bond to `portfolio_dv01`, `bond_dv01`, respectively, and the bond price to `bond_price`.\n",
        "* Find the number of bonds needed to hedge the portfolio.\n",
        "* Find the dollar value of this amount of bonds."
      ],
      "metadata": {
        "id": "7c1KwTO2upep"
      }
    },
    {
      "cell_type": "code",
      "source": [
        "import numpy_financial as npf\n",
        "\n",
        "bond_price =-npf.pv(rate=0.05, nper=30, pmt=3.5, fv=100)\n",
        "price_up = -npf.pv(rate=0.06, nper=30, pmt=3.5, fv=100)\n",
        "price_down = -npf.pv(rate=0.04, nper=30, pmt=3.5, fv=100)\n",
        "duration = (price_down - price_up)/(2 * 0.01 * bond_price)\n",
        "bond_dv01 = duration * price * 0.0001\n",
        "portfolio_dv01 = 5000\n",
        "\n",
        "# Calculate quantity of bond to hedge portfolio\n",
        "hedge_quantity = portfolio_dv01 / bond_dv01\n",
        "print(\"Number of bonds to sell: {:,.0f}\".format(hedge_quantity))\n",
        "\n",
        "# Calculate dollar amount of bond to hedge portfolio\n",
        "hedge_amount = hedge_quantity * bond_price\n",
        "print(\"Dollar amount to sell: USD {:,.0f}\".format(hedge_amount))"
      ],
      "metadata": {
        "colab": {
          "base_uri": "https://localhost:8080/"
        },
        "id": "661lJoWIuWS2",
        "outputId": "177a600e-b80b-48ac-8d2f-8cef125a9368"
      },
      "execution_count": 8,
      "outputs": [
        {
          "output_type": "stream",
          "name": "stdout",
          "text": [
            "Number of bonds to sell: 38,811\n",
            "Dollar amount to sell: USD 2,986,150\n"
          ]
        }
      ]
    },
    {
      "cell_type": "markdown",
      "source": [
        "On a bond trading desk, traders will often refer to the size of their positions by their ***DV01*** instead of the number or dollar amounts of bonds they have, e.g., I'm long USD 20k of ***DV01***."
      ],
      "metadata": {
        "id": "t9XGWRUh5sty"
      }
    },
    {
      "cell_type": "markdown",
      "source": [
        "### **Predicting price impacts from duration**\n",
        "\n",
        "Using duration to predict price impacts is very common when managing a large portfolio of bonds, where repricing each bond would be very time consuming. Instead, you can find the dollar duration of the portfolio and use this to predict what will happen to the portfolio as interest rates change.\n",
        "\n",
        "In this exercise, you will estimate the price change of a bond using duration, then compare this to the actual price of the bond to see how accurate your estimate was.\n",
        "\n",
        "The bond has a maturity of `5` years, coupon of `7`%, yield of `4`%, and face value of USD `100`. It has a price of USD `113.36` and dollar duration of USD `4.83`. You will predict the price change for a `2`% decrease in interest rates.\n",
        "\n",
        "* Assign the bond price, dollar duration, and yield change to `bond_price`, `dollar_duration`, and `yield_change`, respectively.\n",
        "* Calculate the expected price change using dollar duration.\n",
        "* Calculate the actual price change by repricing the bond at `2`% yields and subtracting its previous price."
      ],
      "metadata": {
        "id": "-GArEefy5-ES"
      }
    },
    {
      "cell_type": "code",
      "source": [
        "import numpy_financial as npf \n",
        "\n",
        "# Assign bond price, dollar duration, yield change to variables\n",
        "\n",
        "bond_price = -npf.pv(rate=0.04, nper=5, pmt=7, fv=100)\n",
        "price_up = -npf.pv(rate=0.05, nper=5, pmt=7, fv=100)\n",
        "price_down = -npf.pv(rate=0.03, nper=5, pmt=7, fv=100)\n",
        "duration = (price_down - price_up)/(2 * bond_price * 0.01)\n",
        "dollar_duration = bond_price * duration /100\n",
        "yield_change = -0.02\n",
        "\n",
        "# Predict bond price change using duration\n",
        "price_prediction = -100 * dollar_duration * yield_change\n",
        "print(\"Predicted Change: USD {:,.2f}\".format(price_prediction))\n",
        "\n",
        "# Find actual price change and compare\n",
        "price_actual = -npf.pv(rate=0.02, nper=5, pmt=7, fv=100) - bond_price\n",
        "print(\"Actual Change: USD {:,.2f}\".format(price_actual))\n",
        "print(\"Estimation Error: USD {:,.2f}\".format(price_prediction - price_actual))"
      ],
      "metadata": {
        "colab": {
          "base_uri": "https://localhost:8080/"
        },
        "id": "iGtHfXWH5C7z",
        "outputId": "9a26de52-f04e-42a4-8eee-39cacd9bbf67"
      },
      "execution_count": 3,
      "outputs": [
        {
          "output_type": "stream",
          "name": "stdout",
          "text": [
            "Predicted Change: USD 9.66\n",
            "Actual Change: USD 10.21\n",
            "Estimation Error: USD -0.55\n"
          ]
        }
      ]
    },
    {
      "cell_type": "markdown",
      "source": [
        "This estimation error is due in part to something called **convexity**.\n",
        "\n",
        "# **Plotting predicted vs. actual prices**\n",
        "\n",
        "* `20` year maturity\n",
        "* `5`% coupon\n",
        "* `5%` yield\n",
        "\n",
        "$$\\text{Price Change} = -100 \\times \\text{Dollar Duration} \\times \\Delta Y$$\n",
        "\n",
        "\n"
      ],
      "metadata": {
        "id": "BZwObHGK-oh5"
      }
    },
    {
      "cell_type": "code",
      "source": [
        "import numpy as np\n",
        "import numpy_financial as npf\n",
        "import pandas as pd\n",
        "import matplotlib.pyplot as plt\n",
        "\n",
        "price = -npf.pv(rate=0.05, nper=20, pmt=5, fv=100)\n",
        "price_up = -npf.pv(rate=0.06, nper=20, pmt=5, fv=100)\n",
        "price_down = -npf.pv(rate=0.04, nper=20, pmt=5, fv=100)\n",
        "duration = (price_down - price_up) / (2 * price * 0.01)\n",
        "dollar_duration = duration * price * 0.01\n",
        "print(\"Bond Price (USD): \", price)\n",
        "print(\"Dollar Duration (USD): {:,.2f}\\n\\n\".format(dollar_duration))\n",
        "\n",
        "bond_yields = np.arange(0.00001, 10, 0.1)\n",
        "bond = pd.DataFrame(bond_yields, columns=['bond_yield'])\n",
        "bond['price'] = -npf.pv(rate=bond['bond_yield'] / 100, nper=20, pmt=5, fv=100)\n",
        "bond['yield_change'] = bond['bond_yield'] - 5\n",
        "bond['price_change'] = -100 * dollar_duration * bond['yield_change'] / 100\n",
        "bond['predicted_price'] = price + bond['price_change']\n",
        "\n",
        "plt.figure(figsize=(12,7))\n",
        "plt.plot(bond['bond_yield'], bond['price'])\n",
        "plt.plot(bond['bond_yield'], bond['predicted_price'])\n",
        "plt.xlabel('Yield (%)')\n",
        "plt.ylabel('Price (USD)')\n",
        "plt.title(\"Actual Bond Prices vs. Predicted Prices Using Duration\")\n",
        "plt.legend([\"Actual Price\", \"Predicted Price\"])\n",
        "plt.show()"
      ],
      "metadata": {
        "colab": {
          "base_uri": "https://localhost:8080/",
          "height": 531
        },
        "id": "zH_-pDP18lDa",
        "outputId": "2b6b06d5-2c9b-41ce-e796-7e25fb9c47ca"
      },
      "execution_count": 16,
      "outputs": [
        {
          "output_type": "stream",
          "name": "stdout",
          "text": [
            "Bond Price (USD):  100.0\n",
            "Dollar Duration (USD): 12.53\n",
            "\n",
            "\n"
          ]
        },
        {
          "output_type": "display_data",
          "data": {
            "image/png": "[encoded data removed]",
            "text/plain": [
              "<Figure size 864x504 with 1 Axes>"
            ]
          },
          "metadata": {
            "needs_background": "light"
          }
        }
      ]
    },
    {
      "cell_type": "markdown",
      "source": [
        "## **Duration is accurate for small yield changes only**\n",
        "\n",
        "# **Simplified Convexity Formula**\n",
        "\n",
        "$$Convexity = \\frac{P_{down} + P_{up}-2P}{P(\\Delta Y)^2}$$\n",
        "\n",
        "* $P_{down}$= Bond price at 1% lower yield\n",
        "* $P_{up}$ = Bond price at 1% higher yield\n",
        "* 2P = Double the bond price at current yield\n",
        "* $(\\Delta Y)^2$ = Change in yield squared (we will use $(1\\%)^ 2$)\n",
        "\n",
        "## **Convexity example**\n",
        "\n",
        "* `10` year bond, \n",
        "* `5`% annual coupon, \n",
        "* `4`% yield to maturity\n",
        "\n"
      ],
      "metadata": {
        "id": "3ClCvudbFHiu"
      }
    },
    {
      "cell_type": "code",
      "source": [
        "import numpy_financial as npf \n",
        "\n",
        "price = -npf.pv(rate=0.04, nper=10, pmt=5, fv=100)\n",
        "price_up = -npf.pv(rate=0.05, nper=10, pmt=5, fv=100)\n",
        "price_down = -npf.pv(rate=0.03, nper=10, pmt=5, fv=100)\n",
        "convexity = (price_down + price_up - 2 * price) / (price * 0.01 ** 2)\n",
        "print(\"Convexity: {:,.2f} \".format(convexity))"
      ],
      "metadata": {
        "colab": {
          "base_uri": "https://localhost:8080/"
        },
        "id": "xqqZ3MLYC4ad",
        "outputId": "e32267a3-77ec-469b-aafb-e9a42b6fdf90"
      },
      "execution_count": 10,
      "outputs": [
        {
          "output_type": "stream",
          "name": "stdout",
          "text": [
            "Convexity: 77.57 \n"
          ]
        }
      ]
    },
    {
      "cell_type": "markdown",
      "source": [
        "### **Predicted vs. actual prices I**\n",
        "\n",
        "Plotting the predicted prices of bonds for different levels of yields using duration, then comparing these predicted prices to the actual prices of the bond is a great way of visualizing the accuracy of duration.\n",
        "\n",
        "In this exercise, you will begin by finding the duration of the bond, as well as the price of the bond at different yield levels. In the next exercise, you will find the predicted price from duration and plot the difference.\n",
        "\n",
        "The bond you will consider is \n",
        "* a `10` year bond \n",
        "* paying an annual coupon of `5v% and \n",
        "* a yield to maturity of `5`%.\n",
        "\n",
        "* Find the duration and dollar duration of the bond.\n",
        "* Create an array of bond yields from 0 to 10 in increments of 0.1 and convert this array to a pandas DataFrame called `bond_yield`.\n",
        "* Add the column `price` containing the bond price for each level of yield."
      ],
      "metadata": {
        "id": "kkKG41Hrh6mo"
      }
    },
    {
      "cell_type": "code",
      "source": [
        "import numpy as np\n",
        "import numpy_financial as npf\n",
        "import pandas as pd\n",
        "\n",
        "# Price a 10 year bond with 5% coupon and 5% yield, reprice at higher and lower yields\n",
        "price = -npf.pv(rate=0.05, nper=10, pmt=5, fv=100)\n",
        "price_up = -npf.pv(rate=0.06, nper=10, pmt=5, fv=100)\n",
        "price_down = -npf.pv(rate=0.04, nper=10, pmt=5, fv=100)\n",
        "\n",
        "# Find the duration and dollar duration of the bond\n",
        "duration = (price_down - price_up)/(2*0.01*price)\n",
        "dollar_duration = duration * price * 0.01\n",
        "\n",
        "# Create an array of yields from 0 to 10 in steps of 0.1, convert to DataFrame\n",
        "bond_yields = np.arange(0.00001, 10, 0.1)\n",
        "bond = pd.DataFrame(bond_yields, columns=['bond_yield'])\n",
        "\n",
        "# Add a column called price with the bond price for each yield level\n",
        "bond['price'] = -npf.pv(rate=bond['bond_yield'] / 100, nper=10, pmt=5, fv=100)"
      ],
      "metadata": {
        "id": "RnrCBk4TGjrn"
      },
      "execution_count": 14,
      "outputs": []
    },
    {
      "cell_type": "markdown",
      "source": [
        "### **Predicted vs. actual prices II**\n",
        "\n",
        "Plotting the predicted prices of bonds for different levels of yields using duration, then comparing these predicted prices to the actual prices of the bond is a great way of visualizing the accuracy of duration.\n",
        "\n",
        "In the previous exercise, you found the duration of the bond, and created a DataFrame with the actual bond prices at each level of yield. In this exercise, you will add columns to this DataFrame containing the predicted bond prices using duration, then plot the difference between the predicted price and the actual price.\n",
        "\n",
        "* Add the column `yield_change` with the current yield minus original yield.\n",
        "* Add the column `price_change` with the predicted bond price change using dollar duration.\n",
        "* Add the column `predicted_price` combining the original bond price with the price change.\n",
        "* Add a plot of bond yields against actual prices and against predicted prices on the same axes, and show the plot."
      ],
      "metadata": {
        "id": "WmXRUNZHjRWu"
      }
    },
    {
      "cell_type": "code",
      "source": [
        "import numpy as np\n",
        "import numpy_financial as npf\n",
        "import pandas as pd\n",
        "import matplotlib.pyplot as plt\n",
        "\n",
        "price = -npf.pv(rate=0.05, nper=10, pmt=5, fv=100)\n",
        "\n",
        "# Add a column called yield_change with the current yield minus original yield\n",
        "bond['yield_change'] = (bond['bond_yield'] - 5)\n",
        "\n",
        "# Find the predicted bond price change using dollar duration then find predicted price\n",
        "bond['price_change'] = -100 * dollar_duration * bond['yield_change'] / 100\n",
        "bond['predicted_price'] = price + bond['price_change'] \n",
        "\n",
        "# Plot bond yields against predicted and actual prices, add labels, legend, and display\n",
        "plt.figure(figsize=(12,7))\n",
        "plt.plot(bond['bond_yield'], bond['price'])\n",
        "plt.plot(bond['bond_yield'], bond['predicted_price'])\n",
        "plt.xlabel('Yield (%)')\n",
        "plt.ylabel('Price (USD)')\n",
        "plt.legend([\"Actual Price\", \"Predicted Price\"])\n",
        "plt.show()"
      ],
      "metadata": {
        "colab": {
          "base_uri": "https://localhost:8080/",
          "height": 442
        },
        "id": "BQXmTRlTjJuK",
        "outputId": "ef8490e0-2902-4126-b8b0-81064f1f03a3"
      },
      "execution_count": 18,
      "outputs": [
        {
          "output_type": "display_data",
          "data": {
            "image/png": "[encoded data removed]",
            "text/plain": [
              "<Figure size 864x504 with 1 Axes>"
            ]
          },
          "metadata": {
            "needs_background": "light"
          }
        }
      ]
    },
    {
      "cell_type": "markdown",
      "source": [
        "As you can see, duration is an accurate estimator of bond prices for small changes in yields, but as the yield change increases, this estimate becomes less accurate.\n",
        "\n",
        "### **Finding the convexity of a bond**\n",
        "\n",
        "Calculating the convexity of a bond is an important step in predicting bond price changes and measuring the interest rate risk of a portfolio in a more comprehensive way.\n",
        "\n",
        "In this exercise, you are going to find the convexity of a \n",
        "\n",
        "* `20` year bond that \n",
        "* pays a `6`% annual coupon, \n",
        "* has a yield to maturity of `5`%, and \n",
        "* face value of USD `100`.\n",
        "\n",
        "Recall that the formula for convexity is given by:\n",
        "\n",
        "$$Convexity = \\frac{P_{down} + P_{up} -2P}{P(\\Delta Y)^2}$$\n",
        " \n",
        "* Find the price of a `20` year bond with `6`% coupon and `5`% yield\n",
        "* Find the price of the same bond for a `1`% higher and `1`% lower level of yields.\n",
        "* Find the convexity of the bond and print the result."
      ],
      "metadata": {
        "id": "mPKvrKurml-X"
      }
    },
    {
      "cell_type": "code",
      "source": [
        "import numpy_financial as npf \n",
        "\n",
        "# Find the price of a 20 year bond with 6% coupon and 5% yield\n",
        "price = -npf.pv(rate=0.05, nper=20, pmt=6, fv=100)\n",
        "\n",
        "# Find the price of the same bond for a 1% higher and 1% lower level of yields\n",
        "price_up = -npf.pv(rate=0.06, nper=20, pmt=6, fv=100)\n",
        "price_down = -npf.pv(rate=0.04, nper=20, pmt=6, fv=100)\n",
        "\n",
        "# Find the convexity of the bond and print the result\n",
        "convexity = (price_up + price_down - 2*price)/(price*0.01**2)\n",
        "print(\"Convexity: {:,.2f} \".format(convexity))"
      ],
      "metadata": {
        "colab": {
          "base_uri": "https://localhost:8080/"
        },
        "id": "kQoghRG5ks8v",
        "outputId": "f5db0741-ebd4-497c-a542-ac71b1681cfc"
      },
      "execution_count": 20,
      "outputs": [
        {
          "output_type": "stream",
          "name": "stdout",
          "text": [
            "Convexity: 200.62 \n"
          ]
        }
      ]
    },
    {
      "cell_type": "markdown",
      "source": [
        "# **Coupon vs. convexity**\n",
        "\n",
        "* `10` year bonds \n",
        "* `5`% yield, \n",
        "* firrst pays no coupon, second pays `10`% coupon"
      ],
      "metadata": {
        "id": "u9da-x70uMFi"
      }
    },
    {
      "cell_type": "code",
      "source": [
        "import numpy_financial as npf\n",
        "\n",
        "price_1 = -npf.pv(rate=0.05, nper=10, pmt=0, fv=100)\n",
        "price_up_1 = -npf.pv(rate=0.06, nper=10, pmt=0, fv=100)\n",
        "price_down_1 = -npf.pv(rate=0.04, nper=10, pmt=0, fv=100)\n",
        "convexity_1 = (price_down_1 + price_up_1 - 2 * price_1) / (price_1 * 0.01 ** 2)\n",
        "\n",
        "price_2 = -npf.pv(rate=0.05, nper=10, pmt=10, fv=100)\n",
        "price_up_2 = -npf.pv(rate=0.06, nper=10, pmt=10, fv=100)\n",
        "price_down_2 = -npf.pv(rate=0.04, nper=10, pmt=10, fv=100)\n",
        "convexity_2 = (price_down_2 + price_up_2 - 2 * price_2) / (price_2 * 0.01 ** 2)\n",
        "\n",
        "print(\"Zero Coupon Bond Convexity: {:,.2f} \".format(convexity_1))\n",
        "print(\"High Coupon Bond Convexity: {:,.2f}\".format(convexity_2))"
      ],
      "metadata": {
        "colab": {
          "base_uri": "https://localhost:8080/"
        },
        "id": "t2mp3zhStnWF",
        "outputId": "c02b250f-c664-4e91-e1ba-e65420fc1ca4"
      },
      "execution_count": 2,
      "outputs": [
        {
          "output_type": "stream",
          "name": "stdout",
          "text": [
            "Zero Coupon Bond Convexity: 99.89 \n",
            "High Coupon Bond Convexity: 64.09\n"
          ]
        }
      ]
    },
    {
      "cell_type": "markdown",
      "source": [
        "# **Maturity vs. convexity**"
      ],
      "metadata": {
        "id": "XeNjtAJ4vSYI"
      }
    },
    {
      "cell_type": "code",
      "source": [
        "import numpy as np\n",
        "import numpy_financial as npf\n",
        "import pandas as pd\n",
        "import matplotlib.pyplot as plt\n",
        "\n",
        "bond_yields = np.arange(0.00001, 20, 0.1)\n",
        "bond = pd.DataFrame(bond_yields, columns=['yield'])\n",
        "bond['price_10y'] = -npf.pv(rate=bond['yield'] / 100, nper=10, pmt=0, fv=100)\n",
        "bond['price_30y'] = -npf.pv(rate=bond['yield'] / 100, nper=30, pmt=0, fv=100)\n",
        "plt.figure(figsize=(12,7))\n",
        "plt.plot(bond['yield'], bond['price_10y'])\n",
        "plt.plot(bond['yield'], bond['price_30y'])\n",
        "plt.xlabel('Yield (%)')\n",
        "plt.ylabel('Price (USD)')\n",
        "plt.title('Bond Maturity vs. Convexity')\n",
        "plt.legend([\"10 Year Bond\", \"30 Year Bond\"])\n",
        "plt.show()"
      ],
      "metadata": {
        "colab": {
          "base_uri": "https://localhost:8080/",
          "height": 458
        },
        "id": "Iie47yiFu_OZ",
        "outputId": "f87c696f-84a7-4080-d1f7-16235a1cc2de"
      },
      "execution_count": 6,
      "outputs": [
        {
          "output_type": "display_data",
          "data": {
            "image/png": "[encoded data removed]",
            "text/plain": [
              "<Figure size 864x504 with 1 Axes>"
            ]
          },
          "metadata": {
            "needs_background": "light"
          }
        }
      ]
    },
    {
      "cell_type": "markdown",
      "source": [
        "Bond with longer maturity has higher convexity\n",
        "\n",
        "# **Yield vs. convexity**"
      ],
      "metadata": {
        "id": "CROmq1IGwyIu"
      }
    },
    {
      "cell_type": "code",
      "source": [
        "import numpy as np\n",
        "import numpy_financial as npf\n",
        "import pandas as pd\n",
        "import matplotlib.pyplot as plt\n",
        "\n",
        "bond_yields = np.arange(0.00001, 20, 0.1)\n",
        "bond = pd.DataFrame(bond_yields, columns=['bond_yield'])\n",
        "bond['price'] = -npf.pv(rate=bond['bond_yield'] / 100, nper=10, pmt=5, fv=100)\n",
        "bond['price_up']   = -npf.pv(rate=bond['bond_yield'] / 100 + 0.01, nper=10, pmt=5, fv=100)\n",
        "bond['price_down'] = -npf.pv(rate=bond['bond_yield'] / 100 - 0.01, nper=10, pmt=5, fv=100)\n",
        "bond['convexity'] = (bond['price_down'] + bond['price_up'] - 2 * bond['price']) / (bond['price'] * 0.01 ** 2)\n",
        "\n",
        "plt.figure(figsize=(12,7))\n",
        "plt.plot(bond['bond_yield'], bond['convexity'])\n",
        "plt.xlabel('Yield (%)')\n",
        "plt.ylabel('Convexity (%)')\n",
        "plt.title(\"Convexity Of 10 Year Bond 5% Annual Coupon\")\n",
        "plt.show()"
      ],
      "metadata": {
        "colab": {
          "base_uri": "https://localhost:8080/",
          "height": 458
        },
        "id": "rhVKBlpYvi4k",
        "outputId": "62cf0397-6f13-400c-f849-298f42f3d703"
      },
      "execution_count": 7,
      "outputs": [
        {
          "output_type": "display_data",
          "data": {
            "image/png": "[encoded data removed]",
            "text/plain": [
              "<Figure size 864x504 with 1 Axes>"
            ]
          },
          "metadata": {
            "needs_background": "light"
          }
        }
      ]
    },
    {
      "cell_type": "markdown",
      "source": [
        "**Convexity** increases when a bond has a:\n",
        "* Higher maturity\n",
        "* Lower coupon\n",
        "* Lower yield"
      ],
      "metadata": {
        "id": "a7J4Hktdx9jb"
      }
    },
    {
      "cell_type": "markdown",
      "source": [
        "### **Comparing the convexity of two bonds directly**\n",
        "\n",
        "You can also investigate the influence of factors on bond **convexity** by pricing-up two bonds that vary only in this factor and then calculating the convexity of each bond directly.\n",
        "\n",
        "In this exercise, you will find the **convexity** of two bonds; \n",
        "\n",
        "* both will be `5` year bonds \n",
        "* a yield of `3`% \n",
        "* face value of USD `100`\n",
        "* the first bond will pay a `1`% coupon and the second bond will pay a `10`% coupon.\n",
        "\n",
        "1. Find and print the convexity of a `5` year bond with a face value of USD `100`, annual coupon of `1`%, and yield of `3`%.\n",
        "\n",
        "2. Find and print the convexity of a `5` year bond with a face value of USD `100`, annual coupon of `10`%, and yield of `3`%."
      ],
      "metadata": {
        "id": "UqRoBLIGyYwp"
      }
    },
    {
      "cell_type": "code",
      "source": [
        "import numpy_financial as npf \n",
        "\n",
        "# Find the price of a 5 year bond with 3% yield and 1% coupon\n",
        "price_1 = -npf.pv(rate=0.03, nper=5, pmt=1, fv=100)\n",
        "\n",
        "# Shift yields up and down 1% and reprice\n",
        "price_up_1 = -npf.pv(rate=0.04, nper=5, pmt=1, fv=100)\n",
        "price_down_1 = -npf.pv(rate=0.02, nper=5, pmt=1, fv=100)\n",
        "\n",
        "# Find convexity of the bond and print the result\n",
        "convexity_1 = (price_down_1 + price_up_1 - 2 * price_1) / (price_1 * 0.01 ** 2)\n",
        "print(\"Low Coupon Bond Convexity: {:,.2f}\".format(convexity_1))\n",
        "\n",
        "# Find the price of a 5 year bond with 3% yield and 10% coupon\n",
        "price_2 = -npf.pv(rate=0.03, nper=5, pmt=10, fv=100)\n",
        "\n",
        "# Shift yields up and down 1% and reprice\n",
        "price_up_2 = -npf.pv(rate=0.04, nper=5, pmt=10, fv=100)\n",
        "price_down_2 = -npf.pv(rate=0.02, nper=5, pmt=10, fv=100)\n",
        "\n",
        "# Find convexity of the bond and print the result\n",
        "convexity_2 =  (price_down_2 + price_up_2 - 2 * price_2) / (price_2 * 0.01 ** 2)\n",
        "print(\"High Coupon Bond Convexity: {:,.2f}\".format(convexity_2))"
      ],
      "metadata": {
        "colab": {
          "base_uri": "https://localhost:8080/"
        },
        "id": "TDDBsN-ixe3Y",
        "outputId": "7545074f-124d-4a65-8acb-011b77d225c0"
      },
      "execution_count": 9,
      "outputs": [
        {
          "output_type": "stream",
          "name": "stdout",
          "text": [
            "Low Coupon Bond Convexity: 27.51\n",
            "High Coupon Bond Convexity: 22.92\n"
          ]
        }
      ]
    },
    {
      "cell_type": "markdown",
      "source": [
        "The bond with the lower coupon had a higher level of convexity.\n",
        "\n",
        "### **Using the curvature of the price/yield line**\n",
        "\n",
        "In addition to using the steepness of the price/yield line to estimate the duration of a bond, you can also use its curvature to estimate the convexity of a bond.\n",
        "\n",
        "In this exercise, you are going to plot a price/yield graph of two bonds in order to see which bond has the greatest convexity. Both bonds will pay a \n",
        "\n",
        "* `5`% annual coupon, \n",
        "* have a `5`% yield and \n",
        "* a face value of USD `100`, but \n",
        "* the first bond will be a `5` year bond, and the second a `20` year bond.\n",
        "\n",
        "\n",
        "* Create an array of yields from `0` to `20` in steps of `0.1` using the `np.arange()` function.\n",
        "* Convert this array to a pandas DataFrame with the column title `bond_yield`.\n",
        "* Add two columns to your DataFrame, one for each bond.\n",
        "* Each bond pays a `5`% coupon and has a face value of USD `100`, the first bond is a `5` year bond and the second a `20` year bond.\n",
        "* Add each bond to the plot using the `plt.plot()` function.\n",
        "* Add a legend with the labels \"`5` Year Bond\" and \"`20` Year Bond\".\n",
        "* Show the plot."
      ],
      "metadata": {
        "id": "XM1mdDIB0b-m"
      }
    },
    {
      "cell_type": "code",
      "source": [
        "import numpy as np\n",
        "import numpy_financial as npf\n",
        "import pandas as pd\n",
        "import matplotlib.pyplot as plt\n",
        "\n",
        "# Create array of yields and convert to pandas DataFrame\n",
        "bond_yields = np.arange(0.000001, 20, 0.1)\n",
        "bond = pd.DataFrame(bond_yields, columns=['bond_yield'])\n",
        "\n",
        "# Add columns for 5 year and 20 year bonds\n",
        "bond['price_5y'] = -npf.pv(rate=bond['bond_yield'] / 100, nper=5, pmt=5, fv=100)\n",
        "bond['price_20y'] = -npf.pv(rate=bond['bond_yield'] / 100, nper=20, pmt=5, fv=100)\n",
        "\n",
        "# Create plot for bond bonds, add labels to axes, legend, and display\n",
        "plt.figure(figsize=(12,7))\n",
        "plt.plot(bond['bond_yield'], bond['price_5y'])\n",
        "plt.plot(bond['bond_yield'], bond['price_20y'])\n",
        "plt.xlabel('Yield (%)')\n",
        "plt.ylabel('Price (USD)')\n",
        "plt.legend([\"5 Year Bond\", \"20 Year Bond\"])\n",
        "plt.show()"
      ],
      "metadata": {
        "colab": {
          "base_uri": "https://localhost:8080/",
          "height": 442
        },
        "id": "2GwlS0kiz1Zu",
        "outputId": "b79e45d3-da97-48ce-fd32-606fdd8eece1"
      },
      "execution_count": 11,
      "outputs": [
        {
          "output_type": "display_data",
          "data": {
            "image/png": "[encoded data removed]",
            "text/plain": [
              "<Figure size 864x504 with 1 Axes>"
            ]
          },
          "metadata": {
            "needs_background": "light"
          }
        }
      ]
    },
    {
      "cell_type": "markdown",
      "source": [
        "The bond with the higher maturity shows a much more curved price/yield relationship and therefore has a higher convexity.\n",
        "\n",
        "### **Plotting convexity vs. the factor**\n",
        "\n",
        "Another way to check what effect a certain factor has on bond convexity is to directly plot a graph of this factor against the bond's convexity.\n",
        "\n",
        "In this exercise, you will price a \n",
        "\n",
        "* `20` year bond with \n",
        "* a `6`% coupon and \n",
        "* face value of USD `100`, \n",
        "\n",
        "then find the convexity of this bond for different levels of yields.\n",
        "\n",
        "* Create an array of bond yields from `0` to `20` in increments of `0.1` and convert to a pandas DataFrame.\n",
        "* Find the price of the bond, shift the yields up and down and reprice, then calculate the convexity of the bond.\n",
        "* Plot a graph of bond yields on the x-axis against convexity on the y-axis."
      ],
      "metadata": {
        "id": "DtTKFEJo28py"
      }
    },
    {
      "cell_type": "code",
      "source": [
        "import numpy as np\n",
        "import numpy_financial as npf\n",
        "import pandas as pd\n",
        "import matplotlib.pyplot as plt\n",
        "\n",
        "# Create array of bond yields and covert to pandas DataFrame\n",
        "bond_yields = np.arange(0.0001, 20, 0.1)\n",
        "bond = pd.DataFrame(data=bond_yields, columns=['bond_yield'])\n",
        "\n",
        "# Find price of bond, reprice for higher and lower yields, calculate convexity\n",
        "bond['price'] = -npf.pv(rate=bond['bond_yield'] / 100, nper=20, pmt=6, fv=100)\n",
        "bond['price_up'] = -npf.pv(rate=bond['bond_yield'] / 100 + 0.01, nper=20, pmt=6, fv=100)\n",
        "bond['price_down'] = -npf.pv(rate=bond['bond_yield'] / 100 - 0.01, nper=20, pmt=6, fv=100)\n",
        "bond['convexity'] = (bond['price_up'] + bond['price_down'] - 2 * bond['price']) / (bond['price'] * 0.01 ** 2)\n",
        "\n",
        "# Create plot of bond yields against convexity, add labels to axes, display plot\n",
        "plt.figure(figsize=(12,7))\n",
        "plt.plot(bond['bond_yield'], bond['convexity'])\n",
        "plt.xlabel('Yield (%)')\n",
        "plt.ylabel('Convexity')\n",
        "plt.show()"
      ],
      "metadata": {
        "colab": {
          "base_uri": "https://localhost:8080/",
          "height": 442
        },
        "id": "TKcqRPJW20Ar",
        "outputId": "c9f0fce9-1bf6-4fdc-8d6e-8cf2328abe96"
      },
      "execution_count": 2,
      "outputs": [
        {
          "output_type": "display_data",
          "data": {
            "image/png": "[encoded data removed]",
            "text/plain": [
              "<Figure size 864x504 with 1 Axes>"
            ]
          },
          "metadata": {
            "needs_background": "light"
          }
        }
      ]
    },
    {
      "cell_type": "markdown",
      "source": [
        "Bonds with lower yields have higher convexity\n",
        "\n",
        "# **Dollar Convexity**\n",
        "\n",
        "* Convexity = % change in duration for 1% change in yields\n",
        "* **Dollar convexity** = \\$ change in duration for 1% change in yields:\n",
        "\n",
        "$$\\text{Dollar Convexity} = \\text{Convexity} \\times \\text{Bond Price} × 0.01^2$$\n",
        "\n",
        "## **Dollar convexity example**\n",
        "\n",
        "* `10` year bond\n",
        "* `3`% coupon\n",
        "* `5`% yield\n",
        "* USD `100` face value\n",
        "\n",
        "What is its dollar convexity?"
      ],
      "metadata": {
        "id": "1KzCi0mX4ua3"
      }
    },
    {
      "cell_type": "code",
      "source": [
        "import numpy_financial as npf \n",
        "\n",
        "price      = -npf.pv(rate=0.05, nper=10, pmt=3, fv=100)\n",
        "price_up   = -npf.pv(rate=0.06, nper=10, pmt=3, fv=100)\n",
        "price_down = -npf.pv(rate=0.04, nper=10, pmt=3, fv=100)\n",
        "convexity = (price_down + price_up - 2 * price) / (price * 0.01 ** 2)\n",
        "dollar_convexity = convexity * price * 0.01 ** 2\n",
        "print(\"Dollar Convexity: ${:,.2f}\".format(dollar_convexity))"
      ],
      "metadata": {
        "colab": {
          "base_uri": "https://localhost:8080/"
        },
        "id": "_LxHVNfu4jxC",
        "outputId": "64706337-9d09-44e6-e44a-1c20dd8c30e3"
      },
      "execution_count": 6,
      "outputs": [
        {
          "output_type": "stream",
          "name": "stdout",
          "text": [
            "Dollar Convexity: $0.70\n"
          ]
        }
      ]
    },
    {
      "cell_type": "markdown",
      "source": [
        "# **Convexity Adjustment**\n",
        "\n",
        "* Convexity  ใช้ดูการเปลี่ยนแปลงใน duration ถ้าจะมาดูการเปลี่ยนแปลงในราคาของพันธบัตร ต้อง adjust ตามด้านล่างนี้\n",
        "\n",
        "$$\\text{Convexity Adjustment} = 0.5 × \\text{Dollar Convexity} × 100^2 × (\\Delta Y)^2$$\n",
        "\n",
        "## **Convexity adjustment example**\n",
        "\n",
        "* `10` year bond\n",
        "* `3`% coupon, \n",
        "* `5`% yield\n",
        "* USD `100` face value\n",
        "\n",
        "What is its convexity adjustment?\n",
        "\n"
      ],
      "metadata": {
        "id": "7uQZC4UuFXIX"
      }
    },
    {
      "cell_type": "code",
      "source": [
        "import numpy_financial as npf\n",
        "\n",
        "price      = -npf.pv(rate=0.05, nper=10, pmt=3, fv=100)\n",
        "price_up   = -npf.pv(rate=0.06, nper=10, pmt=3, fv=100)\n",
        "price_down = -npf.pv(rate=0.04, nper=10, pmt=3, fv=100)\n",
        "convexity = (price_down + price_up - 2 * price) / (price * 0.01 ** 2)\n",
        "dollar_convexity = convexity * price * 0.01 ** 2\n",
        "convexity_adjustment = 0.5 * dollar_convexity * 100 ** 2 * 0.01 ** 2\n",
        "print(\"Convexity Adjustment: {:,.2f}\".format(convexity_adjustment))"
      ],
      "metadata": {
        "colab": {
          "base_uri": "https://localhost:8080/"
        },
        "id": "q7gjfRiEEzAV",
        "outputId": "e065a50a-4954-45d9-d22d-4ecd82fd860a"
      },
      "execution_count": 7,
      "outputs": [
        {
          "output_type": "stream",
          "name": "stdout",
          "text": [
            "Convexity Adjustment: 0.35\n"
          ]
        }
      ]
    },
    {
      "cell_type": "markdown",
      "source": [
        "# **Combining duration and convexity**\n",
        "\n",
        "* Predicting price changes from duration alone:\n",
        "\n",
        "$$\\text{Price Change = −100} × \\text{Dollar Duration} \\times\\Delta Y$$\n",
        "\n",
        "* Predicting price changes from <ins>both duration and convexity</ins>:\n",
        "\n",
        "$$Price \\ Change = -100 \\times \\text{Dollar Duration} \\times \\Delta Y + \\frac{1}{2} \\times \\text{Dollar Convexity} \\times 100^2 \\times (\\Delta Y)^2$$\n",
        "\n",
        "## **Duration and convexity example**\n",
        "## **ระวัง เมื่อใส่  Convexity มาแล้ว ขนาดของการเปลี่ยนแปลงราคาเพิ่มหรือลดจะไม่เท่ากัน เพราะ convexity เป็น nonlinear relationship**\n",
        "\n",
        "* `10` year bond, \n",
        "* `3`% coupon, \n",
        "* `5`% yield, \n",
        "* USD `100` face value:"
      ],
      "metadata": {
        "id": "khFAP3iAHoOT"
      }
    },
    {
      "cell_type": "code",
      "source": [
        "import numpy_financial as npf\n",
        "\n",
        "price      = -npf.pv(rate=0.05, nper=10, pmt=3, fv=100)\n",
        "price_up   = -npf.pv(rate=0.06, nper=10, pmt=3, fv=100)\n",
        "price_down = -npf.pv(rate=0.04, nper=10, pmt=3, fv=100)\n",
        "\n",
        "duration = (price_down - price_up) / (2 * price * 0.01)\n",
        "dollar_duration_i = duration*price* 0.01 # yield increases so 0.06 - 0.05 = 0.01\n",
        "dollar_duration_d = duration*price*(-0.01) # yield decreases so 0.04 - 0.05 = -0.01\n",
        "\n",
        "convexity = (price_down + price_up - 2 * price) / (price * 0.01 ** 2)\n",
        "dollar_convexity = convexity * price * 0.01**2\n",
        "convexity_adjustment = 0.5* dollar_convexity * 100 ** 2 * 0.01 ** 2\n",
        "\n",
        "combined_prediction_i = -100 * dollar_duration_i * 0.01 + convexity_adjustment\n",
        "combined_prediction_d = -100 * dollar_duration_d * 0.01 + convexity_adjustment\n",
        "print(\"Predicted Price Change when yield increases by 1%: {:,.9f}\".format(combined_prediction_i))\n",
        "print(\"Predicted Price Change when yield decreases by 1%: +{:,.9f}\".format(combined_prediction_d))\n",
        "print(f\"Actual Price Change when yield increases by 1%: {price_up-price:,.9f}\")\n",
        "print(f\"Actual Price Change when yield decreases by 1%: {price_down-price:,.9f}\")"
      ],
      "metadata": {
        "colab": {
          "base_uri": "https://localhost:8080/"
        },
        "id": "rZMhc-iHHF36",
        "outputId": "5a2a1c48-ff47-4b83-9ee5-d7ebfbd52f0d"
      },
      "execution_count": 15,
      "outputs": [
        {
          "output_type": "stream",
          "name": "stdout",
          "text": [
            "Predicted Price Change when yield increases by 1%: -6.636791296\n",
            "Predicted Price Change when yield decreases by 1%: +7.332574079\n",
            "Actual Price Change when yield increases by 1%: -6.636791296\n",
            "Actual Price Change when yield decreases by 1%: 7.332574079\n"
          ]
        }
      ]
    },
    {
      "cell_type": "markdown",
      "source": [
        "### **Dollar convexity**\n",
        "\n",
        "Calculating the dollar convexity of a bond is an important first step in using convexity to predict bond prices. In this exercise, you are going to calculate the dollar convexity of a \n",
        "\n",
        "* `10` year bond \n",
        "* paying a `2`% coupon, with \n",
        "* a yield of `3`% and \n",
        "* face value of USD `100`.\n",
        "\n",
        "Recall that the formula for dollar convexity is given by:\n",
        "\n",
        "$$Dollar Convexity = Cnvexity \\times Bond Price \\times 0.01^2$$\n",
        "\n",
        "* Find the dollar convexity of a `10` year bond with a `2`% annual coupon and `3`% yield and print the result."
      ],
      "metadata": {
        "id": "K5QbefKBOHjX"
      }
    },
    {
      "cell_type": "code",
      "source": [
        "import numpy_financial as npf \n",
        "\n",
        "# Find price of a 10 year bond with 2% coupon and 3% yield, shift yields, and reprice\n",
        "price      = -npf.pv(rate=0.03, nper=10, pmt=2, fv=100)\n",
        "price_up   = -npf.pv(rate=0.04, nper=10, pmt=2, fv=100)\n",
        "price_down = -npf.pv(rate=0.02, nper=10, pmt=2, fv=100)\n",
        "\n",
        "# Calculate convexity of the bond\n",
        "convexity = (price_down + price_up - 2 * price) / (price * 0.01 ** 2)\n",
        "\n",
        "# Calculate dollar convexity and print the result\n",
        "dollar_convexity = convexity * price * 0.01**2\n",
        "print(\"Dollar convexity: {:,.2f}\".format(dollar_convexity))"
      ],
      "metadata": {
        "colab": {
          "base_uri": "https://localhost:8080/"
        },
        "id": "toniMElpJVRB",
        "outputId": "21090fb9-5550-4c3a-9a78-e78f51f140d5"
      },
      "execution_count": 16,
      "outputs": [
        {
          "output_type": "stream",
          "name": "stdout",
          "text": [
            "Dollar convexity: 0.84\n"
          ]
        }
      ]
    },
    {
      "cell_type": "markdown",
      "source": [
        "This means that for a `1`% change in yields, the dollar duration will change by just under `84` <ins>cents</ins>.\n",
        "\n",
        "### **Convexity adjustment**\n",
        "\n",
        "Finding the convexity adjustment of a bond is the next step in using both duration and convexity to predict changes in bond prices. In this exercise, you are going to calculate the convexity adjustment for a \n",
        "\n",
        "* `10` year zero coupon bond with \n",
        "* a yield of `5`% and \n",
        "* face value of USD `100`.\n",
        "\n",
        "Recall that the formula for the convexity adjustment is given by:\n",
        "\n",
        "$$Convexity \\ Adjustment = \\frac{1}{2} \\times Dollar \\ Convexity \\times 100^2 \\times (\\Delta Y)^2$$\n",
        "\n",
        "\n",
        "* Find the convexity adjustment for a `10` year zero coupon bond and print the result."
      ],
      "metadata": {
        "id": "ntMN4Rh7Pwss"
      }
    },
    {
      "cell_type": "code",
      "source": [
        "import numpy_financial as npf \n",
        "\n",
        "# Find price of 10 year zero coupon bond with a 5% yield, shift yields, and reprice\n",
        "price =     -npf.pv(rate=0.05, nper=10, pmt=0, fv=100)\n",
        "price_up =  -npf.pv(rate=0.06, nper=10, pmt=0, fv=100)\n",
        "price_down =-npf.pv(rate=0.04, nper=10, pmt=0, fv=100)\n",
        "\n",
        "# Calculate convexity and dollar convexity of the bond\n",
        "convexity = (price_down + price_up - 2 * price) / (price * 0.01 ** 2)\n",
        "dollar_convexity = convexity * price * 0.01**2\n",
        "\n",
        "# Find the convexity adjustment and print the result\n",
        "convexity_adjustment = 0.5 * dollar_convexity * 100 ** 2 * 0.01 ** 2\n",
        "print(\"Convexity adjustment: {:,.2f}\".format(convexity_adjustment))"
      ],
      "metadata": {
        "colab": {
          "base_uri": "https://localhost:8080/"
        },
        "id": "dOm556czJbOj",
        "outputId": "ab6504b0-ef6a-4702-ee94-2c92a9e70e99"
      },
      "execution_count": 17,
      "outputs": [
        {
          "output_type": "stream",
          "name": "stdout",
          "text": [
            "Convexity adjustment: 0.31\n"
          ]
        }
      ]
    },
    {
      "cell_type": "markdown",
      "source": [
        "### **Combining duration and convexity**\n",
        "\n",
        "Now let's combine everything you have learned in the last few chapters by using both duration and convexity to predict bond price changes. Take a \n",
        "\n",
        "* `7` year bond \n",
        "* an annual coupon of `3`% and \n",
        "* has a yield to maturity of `4`%.\n",
        "\n",
        "1. Find the price of a `7` year bond that pays an annual coupon of `3`% and has a yield to maturity of `4`%, then shift the yields up and down `1`% and reprice.\n",
        "2. Find the duration of the bond and the dollar duration of the bond.\n",
        "3. Find the convexity, dollar convexity, and convexity adjustment for the bond.\n",
        "4. Predict the bond price change for a `1`% change in yields."
      ],
      "metadata": {
        "id": "1aHlKPXURZwC"
      }
    },
    {
      "cell_type": "code",
      "source": [
        "# Find the price of 7 year bond with 3% coupon and 4% yield, shift yields and reprice\n",
        "price = -npf.pv(rate=0.04, nper=7, pmt=3, fv=100)\n",
        "price_up = -npf.pv(rate=0.05, nper=7, pmt=3, fv=100)\n",
        "price_down = -npf.pv(rate=0.03, nper=7, pmt=3, fv=100)\n",
        "\n",
        "# Find duration and dollar duration of the bond\n",
        "duration = (price_down - price_up) / (2 * price * 0.01)\n",
        "dollar_duration = duration * price * 0.01\n",
        "\n",
        "# Find convexity, dollar convexity and convexity adjustment\n",
        "convexity = (price_down + price_up - 2 * price) / (price * 0.01 ** 2)\n",
        "dollar_convexity = convexity * price * 0.01 ** 2\n",
        "convexity_adjustment = 0.5 * dollar_convexity * 100 ** 2 * 0.01 ** 2\n",
        "\n",
        "# Combine duration and convexity to predict bond price change\n",
        "combined_prediction = -100 * dollar_duration * 0.01 + convexity_adjustment\n",
        "print(\"Predicted Price Change: \", combined_prediction)"
      ],
      "metadata": {
        "colab": {
          "base_uri": "https://localhost:8080/"
        },
        "id": "Y-KXazYARU0x",
        "outputId": "e6d06926-ddcf-44b5-de52-069730fe3527"
      },
      "execution_count": 18,
      "outputs": [
        {
          "output_type": "stream",
          "name": "stdout",
          "text": [
            "Predicted Price Change:  -5.5706921248467305\n"
          ]
        }
      ]
    }
  ]
}